{
 "cells": [
  {
   "cell_type": "code",
   "execution_count": 2,
   "id": "a04c011d",
   "metadata": {},
   "outputs": [],
   "source": [
    "word= \"My friend Dylan got distracted in school.\""
   ]
  },
  {
   "cell_type": "code",
   "execution_count": 1,
   "id": "05014255",
   "metadata": {},
   "outputs": [],
   "source": [
    "#[i for i in word]"
   ]
  },
  {
   "cell_type": "code",
   "execution_count": null,
   "id": "7363c095",
   "metadata": {},
   "outputs": [],
   "source": []
  },
  {
   "cell_type": "markdown",
   "id": "783044e3",
   "metadata": {},
   "source": [
    "## .format()"
   ]
  },
  {
   "cell_type": "code",
   "execution_count": 2,
   "id": "4e1e055d",
   "metadata": {},
   "outputs": [
    {
     "data": {
      "text/plain": [
       "3"
      ]
     },
     "execution_count": 2,
     "metadata": {},
     "output_type": "execute_result"
    }
   ],
   "source": [
    "def operate(x,y,z):\n",
    "    return eval('{}{}{}'.format(x,z,y))\n",
    "\n",
    "operate(1, 2, \"+\")"
   ]
  },
  {
   "cell_type": "markdown",
   "id": "e18b47c4",
   "metadata": {},
   "source": [
    "## WordCharWord\n",
    "\n",
    "    Create a function that will put the first argument, a character, between every word in the second argument, a string\n",
    "    \n",
    "    add(\"R\", \"python is fun\") ➞ \"pythonRisRfun\"\n",
    "    add(\"#\", \"hello world!\") ➞ \"hello#world!\"\n",
    "    add(\"#\", \" \") ➞ \"#\"\n",
    "    "
   ]
  },
  {
   "cell_type": "code",
   "execution_count": null,
   "id": "6c86cb1c",
   "metadata": {},
   "outputs": [],
   "source": [
    "def add(char, txt):\n",
    "    return txt.replace(' ', char)\n",
    "\n",
    "def add(char, txt):\n",
    "    return ''.join([char if a.isspace() else a for a in txt])\n",
    "\n",
    "def add(char, txt):\n",
    "    if txt==\" \":\n",
    "        return char\n",
    "    return char.join(txt.split())"
   ]
  },
  {
   "cell_type": "code",
   "execution_count": null,
   "id": "7791e98d",
   "metadata": {},
   "outputs": [],
   "source": []
  },
  {
   "cell_type": "markdown",
   "id": "d03d2782",
   "metadata": {},
   "source": [
    "## Dictionary to Pack grocery purchases"
   ]
  },
  {
   "cell_type": "code",
   "execution_count": 1,
   "id": "da785b14",
   "metadata": {},
   "outputs": [],
   "source": [
    "def get_container(product):\n",
    "\tmatches = {\n",
    "\t\"Bread\" : \"bag\",\n",
    "\t\"Milk\" : \"bottle\",\n",
    "\t\"Beer\" : \"bottle\",\n",
    "\t\"Eggs\" : \"carton\",\n",
    "\t\"Cerials\" : \"box\",\n",
    "\t\"Candy\" : \"plastic\",\n",
    "\t\"Cheese\" : None\n",
    "\t}\n",
    "\treturn matches[product]"
   ]
  },
  {
   "cell_type": "code",
   "execution_count": 2,
   "id": "b3aa6225",
   "metadata": {},
   "outputs": [
    {
     "data": {
      "text/plain": [
       "'bag'"
      ]
     },
     "execution_count": 2,
     "metadata": {},
     "output_type": "execute_result"
    }
   ],
   "source": [
    "get_container('Bread')"
   ]
  },
  {
   "cell_type": "code",
   "execution_count": null,
   "id": "fa53232f",
   "metadata": {},
   "outputs": [],
   "source": []
  },
  {
   "cell_type": "code",
   "execution_count": null,
   "id": "f0b2ea82",
   "metadata": {},
   "outputs": [],
   "source": []
  },
  {
   "cell_type": "markdown",
   "id": "36c19f1c",
   "metadata": {},
   "source": [
    "## Check String for Spaces\n",
    "    Create a function that returns True if a string contains any spaces"
   ]
  },
  {
   "cell_type": "code",
   "execution_count": null,
   "id": "fe4b8184",
   "metadata": {},
   "outputs": [],
   "source": [
    "def has_spaces(txt):\n",
    "\treturn True if ' ' in txt else False"
   ]
  },
  {
   "cell_type": "code",
   "execution_count": null,
   "id": "21d8373e",
   "metadata": {},
   "outputs": [],
   "source": [
    "def has_spaces(txt):\n",
    "\treturn ' ' in txt"
   ]
  },
  {
   "cell_type": "code",
   "execution_count": null,
   "id": "8d79a20d",
   "metadata": {},
   "outputs": [],
   "source": []
  },
  {
   "cell_type": "markdown",
   "id": "82ec9db7",
   "metadata": {},
   "source": [
    "## .count() -- How many 'D's in a sentence\n",
    "    Create a function that counts how many D's are in a sentence"
   ]
  },
  {
   "cell_type": "code",
   "execution_count": null,
   "id": "5af28868",
   "metadata": {},
   "outputs": [],
   "source": [
    "def count_d(sentence):\n",
    "\treturn sentence.lower().count('d')\n",
    "\n",
    "def count_d(sentence):\n",
    "\treturn sum([1 for i in sentence.lower() if i=='d'])\n",
    "\n",
    "count_d=lambda s:s.upper().count('D')"
   ]
  },
  {
   "cell_type": "code",
   "execution_count": null,
   "id": "1c4c5b90",
   "metadata": {},
   "outputs": [],
   "source": []
  },
  {
   "cell_type": "code",
   "execution_count": null,
   "id": "af39796c",
   "metadata": {},
   "outputs": [],
   "source": []
  },
  {
   "cell_type": "markdown",
   "id": "afd690a6",
   "metadata": {},
   "source": [
    "## all() Check if all items in a list are TRUE"
   ]
  },
  {
   "cell_type": "code",
   "execution_count": null,
   "id": "890a528b",
   "metadata": {},
   "outputs": [],
   "source": [
    "def nothing_is_nothing(*args):\n",
    "\treturn all(args)"
   ]
  },
  {
   "cell_type": "code",
   "execution_count": null,
   "id": "8b648528",
   "metadata": {},
   "outputs": [],
   "source": []
  },
  {
   "cell_type": "markdown",
   "id": "fe87a731",
   "metadata": {},
   "source": [
    "## Reverse the Order of a String"
   ]
  },
  {
   "cell_type": "code",
   "execution_count": null,
   "id": "bdaf9c63",
   "metadata": {},
   "outputs": [],
   "source": [
    "def reverse(string):\n",
    "  return string[::-1]"
   ]
  },
  {
   "cell_type": "code",
   "execution_count": null,
   "id": "55c66bcb",
   "metadata": {},
   "outputs": [],
   "source": [
    "def reverse(s):\n",
    "    l = list(s)\n",
    "    l.reverse()\n",
    "    return \"\".join(l)"
   ]
  },
  {
   "cell_type": "code",
   "execution_count": null,
   "id": "c86e78f6",
   "metadata": {},
   "outputs": [],
   "source": []
  },
  {
   "cell_type": "code",
   "execution_count": null,
   "id": "79da6d20",
   "metadata": {},
   "outputs": [],
   "source": []
  },
  {
   "cell_type": "code",
   "execution_count": null,
   "id": "c767bf7c",
   "metadata": {},
   "outputs": [],
   "source": []
  },
  {
   "cell_type": "code",
   "execution_count": null,
   "id": "af2152ab",
   "metadata": {},
   "outputs": [],
   "source": []
  },
  {
   "cell_type": "code",
   "execution_count": null,
   "id": "b1efbd8a",
   "metadata": {},
   "outputs": [],
   "source": []
  },
  {
   "cell_type": "code",
   "execution_count": null,
   "id": "1e57ebec",
   "metadata": {},
   "outputs": [],
   "source": []
  },
  {
   "cell_type": "code",
   "execution_count": null,
   "id": "6c9da0e4",
   "metadata": {},
   "outputs": [],
   "source": []
  },
  {
   "cell_type": "code",
   "execution_count": null,
   "id": "b122e96d",
   "metadata": {},
   "outputs": [],
   "source": []
  }
 ],
 "metadata": {
  "kernelspec": {
   "display_name": "Python 3 (ipykernel)",
   "language": "python",
   "name": "python3"
  },
  "language_info": {
   "codemirror_mode": {
    "name": "ipython",
    "version": 3
   },
   "file_extension": ".py",
   "mimetype": "text/x-python",
   "name": "python",
   "nbconvert_exporter": "python",
   "pygments_lexer": "ipython3",
   "version": "3.9.12"
  }
 },
 "nbformat": 4,
 "nbformat_minor": 5
}
