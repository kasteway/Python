{
 "cells": [
  {
   "cell_type": "code",
   "execution_count": 4,
   "id": "fc79b4fe",
   "metadata": {},
   "outputs": [
    {
     "data": {
      "text/plain": [
       "2.5"
      ]
     },
     "execution_count": 4,
     "metadata": {},
     "output_type": "execute_result"
    }
   ],
   "source": [
    "5 / 2"
   ]
  },
  {
   "cell_type": "code",
   "execution_count": 6,
   "id": "c113ea31",
   "metadata": {},
   "outputs": [
    {
     "data": {
      "text/plain": [
       "2"
      ]
     },
     "execution_count": 6,
     "metadata": {},
     "output_type": "execute_result"
    }
   ],
   "source": [
    "5 // 2"
   ]
  },
  {
   "cell_type": "code",
   "execution_count": 6,
   "id": "e8df93ac",
   "metadata": {},
   "outputs": [
    {
     "data": {
      "text/plain": [
       "49.0"
      ]
     },
     "execution_count": 6,
     "metadata": {},
     "output_type": "execute_result"
    }
   ],
   "source": [
    "round(calc, 0)"
   ]
  },
  {
   "cell_type": "code",
   "execution_count": null,
   "id": "9d30005d",
   "metadata": {},
   "outputs": [],
   "source": []
  },
  {
   "cell_type": "markdown",
   "id": "b294c113",
   "metadata": {},
   "source": [
    "## *args & **kwargs - use when unsure about number of arguments to pass in the functions\n",
    "    1. *args (Non Keyword Arguments) - allows us to pass variable length argument list\n",
    "    2. *kwargs (Keyword Arguments) - allows us to pass the variable length of keyword arguments to the function"
   ]
  },
  {
   "cell_type": "code",
   "execution_count": 10,
   "id": "d60c5302",
   "metadata": {},
   "outputs": [
    {
     "name": "stdout",
     "output_type": "stream",
     "text": [
      "Sum: 8\n",
      "Sum: 22\n",
      "Sum: 17\n"
     ]
    }
   ],
   "source": [
    "def adder(*num):\n",
    "    sum = 0\n",
    "    \n",
    "    for n in num:\n",
    "        sum = sum + n\n",
    "\n",
    "    print(\"Sum:\",sum)\n",
    "\n",
    "adder(3,5)\n",
    "adder(4,5,6,7)\n",
    "adder(1,2,3,5,6)"
   ]
  },
  {
   "cell_type": "code",
   "execution_count": 11,
   "id": "ba35bdc0",
   "metadata": {},
   "outputs": [
    {
     "name": "stdout",
     "output_type": "stream",
     "text": [
      "\n",
      "Data type of argument: <class 'dict'>\n",
      "Firstname is Sita\n",
      "Lastname is Sharma\n",
      "Age is 22\n",
      "Phone is 1234567890\n"
     ]
    }
   ],
   "source": [
    "def intro(**data):\n",
    "    print(\"\\nData type of argument:\",type(data))\n",
    "\n",
    "    for key, value in data.items():\n",
    "        print(\"{} is {}\".format(key,value))\n",
    "\n",
    "intro(Firstname=\"Sita\", Lastname=\"Sharma\", Age=22, Phone=1234567890)\n"
   ]
  },
  {
   "cell_type": "code",
   "execution_count": 12,
   "id": "04c37ef0",
   "metadata": {},
   "outputs": [
    {
     "name": "stdout",
     "output_type": "stream",
     "text": [
      "\n",
      "Data type of argument: <class 'dict'>\n",
      "Firstname is John\n",
      "Lastname is Wood\n",
      "Email is johnwood@nomail.com\n",
      "Country is Wakanda\n",
      "Age is 25\n",
      "Phone is 9876543210\n"
     ]
    }
   ],
   "source": [
    "intro(Firstname=\"John\", Lastname=\"Wood\", Email=\"johnwood@nomail.com\", Country=\"Wakanda\", Age=25, Phone=9876543210)"
   ]
  },
  {
   "cell_type": "code",
   "execution_count": null,
   "id": "6405fe16",
   "metadata": {},
   "outputs": [],
   "source": []
  },
  {
   "cell_type": "markdown",
   "id": "8b9f23bf",
   "metadata": {},
   "source": [
    "## Destructuring Lists\n",
    "\n",
    "    https://riptutorial.com/python/example/14981/destructuring-assignment"
   ]
  },
  {
   "cell_type": "code",
   "execution_count": 9,
   "id": "4e2a454d",
   "metadata": {},
   "outputs": [
    {
     "data": {
      "text/plain": [
       "'nose'"
      ]
     },
     "execution_count": 9,
     "metadata": {},
     "output_type": "execute_result"
    }
   ],
   "source": [
    "# '''Create variable nose here and assign it to arr[1]''' = arr\n",
    "\n",
    "arr = [\"eyes\", \"nose\", \"lips\", \"ears\"]\n",
    "_ , nose, _, _ = arr\n",
    "nose"
   ]
  },
  {
   "cell_type": "code",
   "execution_count": 10,
   "id": "1afd9ec9",
   "metadata": {},
   "outputs": [
    {
     "name": "stdout",
     "output_type": "stream",
     "text": [
      "1 2 5 [3, 4]\n"
     ]
    }
   ],
   "source": [
    "a, b, *other, z = [1, 2, 3, 4, 5]\n",
    "print(a, b, z, other)"
   ]
  },
  {
   "cell_type": "code",
   "execution_count": 9,
   "id": "5edf4b43",
   "metadata": {},
   "outputs": [
    {
     "name": "stdout",
     "output_type": "stream",
     "text": [
      "1\n"
     ]
    },
    {
     "data": {
      "text/plain": [
       "[2, 3, 4, 5]"
      ]
     },
     "execution_count": 9,
     "metadata": {},
     "output_type": "execute_result"
    }
   ],
   "source": [
    "head, *tail = [1, 2, 3, 4, 5]\n",
    "print(head)\n",
    "tail"
   ]
  },
  {
   "cell_type": "code",
   "execution_count": 4,
   "id": "467e2a9d",
   "metadata": {},
   "outputs": [
    {
     "data": {
      "text/plain": [
       "[4, 5, 6, 7, 8]"
      ]
     },
     "execution_count": 4,
     "metadata": {},
     "output_type": "execute_result"
    }
   ],
   "source": [
    "first, second, third, *other = [1, 2, 3, 4, 5, 6, 7, 8]\n",
    "other"
   ]
  },
  {
   "cell_type": "markdown",
   "id": "3b25c65b",
   "metadata": {},
   "source": [
    "## Evaluate "
   ]
  },
  {
   "cell_type": "code",
   "execution_count": 39,
   "id": "9c3be4b2",
   "metadata": {},
   "outputs": [],
   "source": [
    "def eq(*args):\n",
    "    return args[0]\n",
    "\n",
    "a = \"3*4+1\"\n",
    "b = \"6/(9-7)\""
   ]
  },
  {
   "cell_type": "code",
   "execution_count": null,
   "id": "9e7f8061",
   "metadata": {},
   "outputs": [],
   "source": [
    "def operate(x,y,z):\n",
    "    return eval('{}{}{}'.format(x,z,y))"
   ]
  },
  {
   "cell_type": "code",
   "execution_count": 40,
   "id": "c7cb3adc",
   "metadata": {},
   "outputs": [
    {
     "data": {
      "text/plain": [
       "3.0"
      ]
     },
     "execution_count": 40,
     "metadata": {},
     "output_type": "execute_result"
    }
   ],
   "source": [
    "eval(\"6/(9-7)\")"
   ]
  },
  {
   "cell_type": "code",
   "execution_count": 41,
   "id": "ed3903b6",
   "metadata": {},
   "outputs": [
    {
     "data": {
      "text/plain": [
       "'3*4+1'"
      ]
     },
     "execution_count": 41,
     "metadata": {},
     "output_type": "execute_result"
    }
   ],
   "source": [
    "eq(a)"
   ]
  },
  {
   "cell_type": "code",
   "execution_count": 44,
   "id": "f683d92d",
   "metadata": {},
   "outputs": [
    {
     "data": {
      "text/plain": [
       "<function __main__.<lambda>(n)>"
      ]
     },
     "execution_count": 44,
     "metadata": {},
     "output_type": "execute_result"
    }
   ],
   "source": [
    "lambda n: eval(str(n))"
   ]
  },
  {
   "cell_type": "code",
   "execution_count": null,
   "id": "5f207380",
   "metadata": {},
   "outputs": [],
   "source": []
  },
  {
   "cell_type": "markdown",
   "id": "e1a3ed15",
   "metadata": {},
   "source": [
    "## Check if Lists are IDENTICAL"
   ]
  },
  {
   "cell_type": "code",
   "execution_count": 1,
   "id": "0577cb46",
   "metadata": {},
   "outputs": [],
   "source": [
    "test_list1 = [1, 2, 4, 3, 5]\n",
    "test_list2 = [1, 2, 4, 3, 5]"
   ]
  },
  {
   "cell_type": "code",
   "execution_count": 2,
   "id": "e758898c",
   "metadata": {},
   "outputs": [
    {
     "data": {
      "text/plain": [
       "True"
      ]
     },
     "execution_count": 2,
     "metadata": {},
     "output_type": "execute_result"
    }
   ],
   "source": [
    "test_list1 == test_list2"
   ]
  },
  {
   "cell_type": "code",
   "execution_count": 3,
   "id": "d52f1a14",
   "metadata": {},
   "outputs": [
    {
     "data": {
      "text/plain": [
       "True"
      ]
     },
     "execution_count": 3,
     "metadata": {},
     "output_type": "execute_result"
    }
   ],
   "source": [
    "import collections\n",
    "\n",
    "collections.Counter(test_list1) == collections.Counter(test_list2)"
   ]
  },
  {
   "cell_type": "code",
   "execution_count": null,
   "id": "b842f221",
   "metadata": {},
   "outputs": [],
   "source": []
  },
  {
   "cell_type": "markdown",
   "id": "684f1172",
   "metadata": {},
   "source": [
    "## Triangle or Parallelogram"
   ]
  },
  {
   "cell_type": "code",
   "execution_count": null,
   "id": "7f93f9b3",
   "metadata": {},
   "outputs": [],
   "source": [
    "def area_shape(base, height, shape):\n",
    "\treturn {'triangle': 0.5*base*height, 'parallelogram': base*height}[shape]"
   ]
  },
  {
   "cell_type": "code",
   "execution_count": null,
   "id": "62bb1f34",
   "metadata": {},
   "outputs": [],
   "source": [
    "def area_shape(base, height, shape):\n",
    "\treturn base * height / [1, 2][shape == \"triangle\"]"
   ]
  },
  {
   "cell_type": "code",
   "execution_count": null,
   "id": "7c45db27",
   "metadata": {},
   "outputs": [],
   "source": [
    "def area_shape(b,h,f):\n",
    "\treturn b*h*0.5 if f=='triangle' else b*h"
   ]
  },
  {
   "cell_type": "code",
   "execution_count": null,
   "id": "a05e9048",
   "metadata": {},
   "outputs": [],
   "source": [
    "area_shape = lambda b,h,s: b*h if s[0]==\"p\" else b*h/2"
   ]
  },
  {
   "cell_type": "code",
   "execution_count": null,
   "id": "b07619d0",
   "metadata": {},
   "outputs": [],
   "source": []
  },
  {
   "cell_type": "code",
   "execution_count": null,
   "id": "a5bf8000",
   "metadata": {},
   "outputs": [],
   "source": []
  },
  {
   "cell_type": "markdown",
   "id": "776f9a36",
   "metadata": {},
   "source": [
    "## Char-to-ASCII\n",
    "\n",
    "        Given a string representing one Unicode character, return an integer representing the Unicode code point of that character. For example, ord('a') returns the integer 97"
   ]
  },
  {
   "cell_type": "code",
   "execution_count": 5,
   "id": "657bed50",
   "metadata": {},
   "outputs": [],
   "source": [
    "def ctoa(char):\n",
    "\treturn ord(char)"
   ]
  },
  {
   "cell_type": "code",
   "execution_count": 6,
   "id": "a01f805b",
   "metadata": {},
   "outputs": [
    {
     "data": {
      "text/plain": [
       "97"
      ]
     },
     "execution_count": 6,
     "metadata": {},
     "output_type": "execute_result"
    }
   ],
   "source": [
    "ctoa('a')"
   ]
  },
  {
   "cell_type": "markdown",
   "id": "92b16e5e",
   "metadata": {},
   "source": [
    "## ASCII to Char\n",
    "\n",
    "    Return the string representing a character whose Unicode code point is the integer i. For example, chr(97) returns the string 'a'"
   ]
  },
  {
   "cell_type": "code",
   "execution_count": 7,
   "id": "f8142952",
   "metadata": {},
   "outputs": [],
   "source": [
    "def atoch(char):\n",
    "\treturn chr(char)"
   ]
  },
  {
   "cell_type": "code",
   "execution_count": 8,
   "id": "8b82d912",
   "metadata": {},
   "outputs": [
    {
     "data": {
      "text/plain": [
       "'a'"
      ]
     },
     "execution_count": 8,
     "metadata": {},
     "output_type": "execute_result"
    }
   ],
   "source": [
    "atoch(97)"
   ]
  },
  {
   "cell_type": "code",
   "execution_count": null,
   "id": "cb84c1d9",
   "metadata": {},
   "outputs": [],
   "source": []
  },
  {
   "cell_type": "markdown",
   "id": "d834d1d3",
   "metadata": {},
   "source": [
    "## Numbers to Dictionaries ASCII to CHAR\n",
    "    Given a list of numbers lst:\n",
    "\n",
    "    Create a dictionary for each given number.\n",
    "    The dictionary key will be the number converted to a string.\n",
    "    The value will be the corresponding character code converted to a string (check ASCII table)."
   ]
  },
  {
   "cell_type": "code",
   "execution_count": 1,
   "id": "22262075",
   "metadata": {},
   "outputs": [
    {
     "data": {
      "text/plain": [
       "[{'118': 'v'}, {'117': 'u'}, {'120': 'x'}]"
      ]
     },
     "execution_count": 1,
     "metadata": {},
     "output_type": "execute_result"
    }
   ],
   "source": [
    "def num_to_dict(lst):\n",
    "\treturn [{str(i): chr(i) } for i in lst]\n",
    "\n",
    "num_to_dict([118, 117, 120])"
   ]
  },
  {
   "cell_type": "code",
   "execution_count": null,
   "id": "af45a63c",
   "metadata": {},
   "outputs": [],
   "source": []
  },
  {
   "cell_type": "markdown",
   "id": "39847df6",
   "metadata": {},
   "source": [
    "## AND, OR and NOT\n",
    "    write the three logic gates: AND, OR, and NOT.\n",
    "        1. AND(0, 1), 0\n",
    "        2. OR(0, 1), 1\n",
    "        3. NOT(0), 1"
   ]
  },
  {
   "cell_type": "code",
   "execution_count": null,
   "id": "ece818ef",
   "metadata": {},
   "outputs": [],
   "source": [
    "def NOT(n):\n",
    "\t\treturn not n\n",
    "def AND(n1, n2):\n",
    "\t\treturn n1 & n2\n",
    "def OR(n1, n2):\n",
    "\t\treturn n1 | n2"
   ]
  },
  {
   "cell_type": "code",
   "execution_count": null,
   "id": "76cbca9f",
   "metadata": {},
   "outputs": [],
   "source": []
  },
  {
   "cell_type": "code",
   "execution_count": null,
   "id": "17e710bb",
   "metadata": {},
   "outputs": [],
   "source": [
    "## Random Integer Generator\n",
    "\n",
    "    Return a random integer N such that a <= N <= b"
   ]
  },
  {
   "cell_type": "code",
   "execution_count": 1,
   "id": "be8d4456",
   "metadata": {},
   "outputs": [
    {
     "data": {
      "text/plain": [
       "9"
      ]
     },
     "execution_count": 1,
     "metadata": {},
     "output_type": "execute_result"
    }
   ],
   "source": [
    "import random import randint\n",
    "\n",
    "def random_int(a, b):\n",
    "\treturn random.randint(a,b)\n",
    "\n",
    "random_int(5, 9)"
   ]
  },
  {
   "cell_type": "code",
   "execution_count": null,
   "id": "526b2cf3",
   "metadata": {},
   "outputs": [],
   "source": []
  },
  {
   "cell_type": "markdown",
   "id": "ac0018d5",
   "metadata": {},
   "source": [
    "## Sum of Minimums\n",
    "    Create a function that takes a 2D list lst and returns the sum of the minimum value in each row."
   ]
  },
  {
   "cell_type": "code",
   "execution_count": 4,
   "id": "e031d3ed",
   "metadata": {},
   "outputs": [
    {
     "data": {
      "text/plain": [
       "26"
      ]
     },
     "execution_count": 4,
     "metadata": {},
     "output_type": "execute_result"
    }
   ],
   "source": [
    "def sum_minimums(lst):\n",
    "\treturn sum(map(min, lst))\n",
    "\n",
    "sum_minimums([\n",
    "  [1, 2, 3, 4, 5],\n",
    "  [5, 6, 7, 8, 9],\n",
    "  [20, 21, 34, 56, 100]\n",
    "])"
   ]
  },
  {
   "cell_type": "code",
   "execution_count": 5,
   "id": "d3d9aa27",
   "metadata": {},
   "outputs": [],
   "source": [
    "def sum_minimums(lst):\n",
    "\treturn sum(map(min, lst))\n"
   ]
  },
  {
   "cell_type": "code",
   "execution_count": null,
   "id": "2f649921",
   "metadata": {},
   "outputs": [],
   "source": []
  },
  {
   "cell_type": "markdown",
   "id": "781f43fa",
   "metadata": {},
   "source": [
    "## all() Check if all items in a list are TRUE"
   ]
  },
  {
   "cell_type": "code",
   "execution_count": null,
   "id": "e053f170",
   "metadata": {},
   "outputs": [],
   "source": [
    "def nothing_is_nothing(*args):\n",
    "\treturn all(args)"
   ]
  },
  {
   "cell_type": "code",
   "execution_count": null,
   "id": "0657f66a",
   "metadata": {},
   "outputs": [],
   "source": []
  },
  {
   "cell_type": "markdown",
   "id": "09d023c6",
   "metadata": {},
   "source": [
    "## enumerate Find None in a List\n",
    "     return value should be the index where None is found. \n",
    "    If None is not found in the list, then return -1"
   ]
  },
  {
   "cell_type": "code",
   "execution_count": null,
   "id": "6d79060b",
   "metadata": {},
   "outputs": [],
   "source": [
    "def find_none(lst):\n",
    "\treturn -1 if all(lst) else [i for i,v in enumerate(lst) if v == None][0]"
   ]
  },
  {
   "cell_type": "code",
   "execution_count": null,
   "id": "a06dc277",
   "metadata": {},
   "outputs": [],
   "source": [
    "def find_None(lst):\n",
    "\treturn lst.index(None) if None in lst else -1"
   ]
  },
  {
   "cell_type": "code",
   "execution_count": 1,
   "id": "a06c583e",
   "metadata": {},
   "outputs": [],
   "source": [
    "def find_None(lst):\n",
    "\ttry:\n",
    "\t\treturn lst.index(None)\n",
    "\texcept ValueError:\n",
    "\t\treturn -1"
   ]
  },
  {
   "cell_type": "code",
   "execution_count": 2,
   "id": "1ba9a38b",
   "metadata": {},
   "outputs": [],
   "source": [
    "def find_None(lst):\n",
    "\t\tfor idx, i in enumerate(lst):\n",
    "\t\t\t\tif i is None:\n",
    "\t\t\t\t\t\treturn idx\n",
    "\t\treturn -1"
   ]
  },
  {
   "cell_type": "code",
   "execution_count": null,
   "id": "9bd83cba",
   "metadata": {},
   "outputs": [],
   "source": []
  },
  {
   "cell_type": "code",
   "execution_count": null,
   "id": "224f1848",
   "metadata": {},
   "outputs": [],
   "source": []
  },
  {
   "cell_type": "code",
   "execution_count": null,
   "id": "f706ea9c",
   "metadata": {},
   "outputs": [],
   "source": []
  },
  {
   "cell_type": "code",
   "execution_count": null,
   "id": "972b11cb",
   "metadata": {},
   "outputs": [],
   "source": []
  },
  {
   "cell_type": "code",
   "execution_count": null,
   "id": "7747215e",
   "metadata": {},
   "outputs": [],
   "source": []
  },
  {
   "cell_type": "code",
   "execution_count": null,
   "id": "085cd023",
   "metadata": {},
   "outputs": [],
   "source": []
  },
  {
   "cell_type": "code",
   "execution_count": null,
   "id": "770aafaf",
   "metadata": {},
   "outputs": [],
   "source": []
  },
  {
   "cell_type": "code",
   "execution_count": null,
   "id": "f5e3de5c",
   "metadata": {},
   "outputs": [],
   "source": []
  },
  {
   "cell_type": "code",
   "execution_count": null,
   "id": "d20a71b7",
   "metadata": {},
   "outputs": [],
   "source": []
  },
  {
   "cell_type": "markdown",
   "id": "5ce5f452",
   "metadata": {},
   "source": [
    "## Try Except\n",
    "\n",
    "    The try block lets you test a block of code for errors.\n",
    "    The except block lets you handle the error.\n",
    "    The else block lets you execute code when there is no error. \n",
    "    The finally block lets you execute code, regardless of the result of the try- and except blocks."
   ]
  },
  {
   "cell_type": "code",
   "execution_count": 7,
   "id": "fa2e202a",
   "metadata": {},
   "outputs": [
    {
     "name": "stdout",
     "output_type": "stream",
     "text": [
      "An exception occurred\n"
     ]
    }
   ],
   "source": [
    "# The try block will generate an exception, because x is not defined:\n",
    "\n",
    "try:\n",
    "  print(x)\n",
    "except:\n",
    "  print(\"An exception occurred\")"
   ]
  },
  {
   "cell_type": "code",
   "execution_count": 8,
   "id": "dd9fbf7f",
   "metadata": {},
   "outputs": [
    {
     "name": "stdout",
     "output_type": "stream",
     "text": [
      "Variable x is not defined\n"
     ]
    }
   ],
   "source": [
    "# Print one message if the try block raises a NameError and another for other errors:\n",
    "\n",
    "try:\n",
    "  print(x)\n",
    "except NameError:\n",
    "  print(\"Variable x is not defined\")\n",
    "except:\n",
    "  print(\"Something else went wrong\")"
   ]
  },
  {
   "cell_type": "code",
   "execution_count": 9,
   "id": "0bfff197",
   "metadata": {},
   "outputs": [
    {
     "name": "stdout",
     "output_type": "stream",
     "text": [
      "Hello\n",
      "Nothing went wrong\n"
     ]
    }
   ],
   "source": [
    "# In this example, the try block does not generate any error:\n",
    "\n",
    "try:\n",
    "  print(\"Hello\")\n",
    "except:\n",
    "  print(\"Something went wrong\")\n",
    "else:\n",
    "  print(\"Nothing went wrong\")\n"
   ]
  },
  {
   "cell_type": "code",
   "execution_count": 10,
   "id": "ff74cb9d",
   "metadata": {},
   "outputs": [
    {
     "name": "stdout",
     "output_type": "stream",
     "text": [
      "Something went wrong\n",
      "The 'try except' is finished\n"
     ]
    }
   ],
   "source": [
    "# The finally block, if specified, will be executed regardless if the try block raises an error or not.\n",
    "\n",
    "try:\n",
    "  print(x)\n",
    "except:\n",
    "  print(\"Something went wrong\")\n",
    "finally:\n",
    "  print(\"The 'try except' is finished\")"
   ]
  },
  {
   "cell_type": "code",
   "execution_count": 11,
   "id": "e9b0a3be",
   "metadata": {},
   "outputs": [
    {
     "name": "stdout",
     "output_type": "stream",
     "text": [
      "Something went wrong when opening the file\n"
     ]
    }
   ],
   "source": [
    "# This can be useful to close objects and clean up resources:\n",
    "# Try to open and write to a file that is not writable:\n",
    "\n",
    "try:\n",
    "  f = open(\"demofile.txt\")\n",
    "  try:\n",
    "    f.write(\"Lorum Ipsum\")\n",
    "  except:\n",
    "    print(\"Something went wrong when writing to the file\")\n",
    "  finally:\n",
    "    f.close()\n",
    "except:\n",
    "  print(\"Something went wrong when opening the file\")"
   ]
  },
  {
   "cell_type": "code",
   "execution_count": null,
   "id": "705dad5c",
   "metadata": {},
   "outputs": [],
   "source": []
  },
  {
   "cell_type": "markdown",
   "id": "420e6e4c",
   "metadata": {},
   "source": [
    "## Raise an exception\n",
    "    As a Python developer you can choose to throw an exception if a condition occurs.\n",
    "\n",
    "    To throw (or raise) an exception, use the raise keyword."
   ]
  },
  {
   "cell_type": "code",
   "execution_count": 12,
   "id": "756cdb50",
   "metadata": {},
   "outputs": [
    {
     "ename": "Exception",
     "evalue": "Sorry, no numbers below zero",
     "output_type": "error",
     "traceback": [
      "\u001b[0;31m---------------------------------------------------------------------------\u001b[0m",
      "\u001b[0;31mException\u001b[0m                                 Traceback (most recent call last)",
      "Input \u001b[0;32mIn [12]\u001b[0m, in \u001b[0;36m<cell line: 5>\u001b[0;34m()\u001b[0m\n\u001b[1;32m      3\u001b[0m x \u001b[38;5;241m=\u001b[39m \u001b[38;5;241m-\u001b[39m\u001b[38;5;241m1\u001b[39m\n\u001b[1;32m      5\u001b[0m \u001b[38;5;28;01mif\u001b[39;00m x \u001b[38;5;241m<\u001b[39m \u001b[38;5;241m0\u001b[39m:\n\u001b[0;32m----> 6\u001b[0m   \u001b[38;5;28;01mraise\u001b[39;00m \u001b[38;5;167;01mException\u001b[39;00m(\u001b[38;5;124m\"\u001b[39m\u001b[38;5;124mSorry, no numbers below zero\u001b[39m\u001b[38;5;124m\"\u001b[39m)\n",
      "\u001b[0;31mException\u001b[0m: Sorry, no numbers below zero"
     ]
    }
   ],
   "source": [
    "# Raise an error and stop the program if x is lower than 0:\n",
    "\n",
    "x = -1\n",
    "\n",
    "if x < 0:\n",
    "  raise Exception(\"Sorry, no numbers below zero\")"
   ]
  },
  {
   "cell_type": "code",
   "execution_count": 13,
   "id": "084fcf9c",
   "metadata": {},
   "outputs": [
    {
     "ename": "TypeError",
     "evalue": "Only integers are allowed",
     "output_type": "error",
     "traceback": [
      "\u001b[0;31m---------------------------------------------------------------------------\u001b[0m",
      "\u001b[0;31mTypeError\u001b[0m                                 Traceback (most recent call last)",
      "Input \u001b[0;32mIn [13]\u001b[0m, in \u001b[0;36m<cell line: 7>\u001b[0;34m()\u001b[0m\n\u001b[1;32m      5\u001b[0m x \u001b[38;5;241m=\u001b[39m \u001b[38;5;124m\"\u001b[39m\u001b[38;5;124mhello\u001b[39m\u001b[38;5;124m\"\u001b[39m\n\u001b[1;32m      7\u001b[0m \u001b[38;5;28;01mif\u001b[39;00m \u001b[38;5;129;01mnot\u001b[39;00m \u001b[38;5;28mtype\u001b[39m(x) \u001b[38;5;129;01mis\u001b[39;00m \u001b[38;5;28mint\u001b[39m:\n\u001b[0;32m----> 8\u001b[0m   \u001b[38;5;28;01mraise\u001b[39;00m \u001b[38;5;167;01mTypeError\u001b[39;00m(\u001b[38;5;124m\"\u001b[39m\u001b[38;5;124mOnly integers are allowed\u001b[39m\u001b[38;5;124m\"\u001b[39m)\n",
      "\u001b[0;31mTypeError\u001b[0m: Only integers are allowed"
     ]
    }
   ],
   "source": [
    "# The raise keyword is used to raise an exception.\n",
    "# You can define what kind of error to raise, and the text to print to the user.\n",
    "# Raise a TypeError if x is not an integer:\n",
    "\n",
    "x = \"hello\"\n",
    "\n",
    "if not type(x) is int:\n",
    "  raise TypeError(\"Only integers are allowed\")"
   ]
  },
  {
   "cell_type": "code",
   "execution_count": null,
   "id": "6bbe8cde",
   "metadata": {},
   "outputs": [],
   "source": []
  },
  {
   "cell_type": "code",
   "execution_count": null,
   "id": "437db5d4",
   "metadata": {},
   "outputs": [],
   "source": []
  },
  {
   "cell_type": "code",
   "execution_count": null,
   "id": "bb699880",
   "metadata": {},
   "outputs": [],
   "source": []
  }
 ],
 "metadata": {
  "kernelspec": {
   "display_name": "Python 3 (ipykernel)",
   "language": "python",
   "name": "python3"
  },
  "language_info": {
   "codemirror_mode": {
    "name": "ipython",
    "version": 3
   },
   "file_extension": ".py",
   "mimetype": "text/x-python",
   "name": "python",
   "nbconvert_exporter": "python",
   "pygments_lexer": "ipython3",
   "version": "3.9.12"
  }
 },
 "nbformat": 4,
 "nbformat_minor": 5
}
