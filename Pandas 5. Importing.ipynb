{
 "cells": [
  {
   "cell_type": "code",
   "execution_count": 1,
   "id": "954417b2",
   "metadata": {},
   "outputs": [],
   "source": [
    "import pandas as pd"
   ]
  },
  {
   "cell_type": "markdown",
   "id": "9fde0125",
   "metadata": {},
   "source": [
    "1. Database -- SQL, NoSQL\n",
    "2. Flat File -- .csv, .txt, .json, .xls\n",
    "3. Python Object -- Lists, Dictionaries, Pickled Object"
   ]
  },
  {
   "cell_type": "markdown",
   "id": "8749aa1e",
   "metadata": {},
   "source": [
    "### CSV File"
   ]
  },
  {
   "cell_type": "code",
   "execution_count": null,
   "id": "87043dd5",
   "metadata": {},
   "outputs": [],
   "source": [
    "pd.read_csv('csv_data.csv')"
   ]
  },
  {
   "cell_type": "markdown",
   "id": "d019f5b7",
   "metadata": {},
   "source": [
    "### Excel File"
   ]
  },
  {
   "cell_type": "code",
   "execution_count": null,
   "id": "b93240cd",
   "metadata": {},
   "outputs": [],
   "source": [
    "\n",
    "pd.read_excel('excel_data.xlsx', sheet_name='sales' )\n",
    "pd.read_excel('excel_data.xlsx', sheet_name='1' )\n"
   ]
  },
  {
   "cell_type": "markdown",
   "id": "ee57e4ea",
   "metadata": {},
   "source": [
    "### Text Files\n"
   ]
  },
  {
   "cell_type": "code",
   "execution_count": null,
   "id": "003c45f7",
   "metadata": {},
   "outputs": [],
   "source": [
    "pd.read_csv('txt_data.txt')"
   ]
  },
  {
   "cell_type": "code",
   "execution_count": null,
   "id": "d293ac63",
   "metadata": {},
   "outputs": [],
   "source": []
  },
  {
   "cell_type": "markdown",
   "id": "151e80b9",
   "metadata": {},
   "source": [
    "### .json Files"
   ]
  },
  {
   "cell_type": "code",
   "execution_count": null,
   "id": "028d5787",
   "metadata": {},
   "outputs": [],
   "source": [
    "pd.read_jason('json_data.json')"
   ]
  },
  {
   "cell_type": "code",
   "execution_count": null,
   "id": "56330524",
   "metadata": {},
   "outputs": [],
   "source": []
  },
  {
   "cell_type": "markdown",
   "id": "dd6f67a6",
   "metadata": {},
   "source": [
    "## Pre-Processing while Imports"
   ]
  },
  {
   "cell_type": "code",
   "execution_count": null,
   "id": "e9680139",
   "metadata": {},
   "outputs": [],
   "source": []
  },
  {
   "cell_type": "markdown",
   "id": "e71ecd0e",
   "metadata": {},
   "source": [
    "## Sep = '\\t' ---> delimeter -> for Tabs"
   ]
  },
  {
   "cell_type": "markdown",
   "id": "5baefe63",
   "metadata": {},
   "source": [
    "## columns = ['ID', 'Date', 'Customer']  --> List of column names when creating a Dataframe \n",
    "                                            or reanaming the import in the same order"
   ]
  },
  {
   "cell_type": "markdown",
   "id": "eca78760",
   "metadata": {},
   "source": [
    "##  index_col = 0 --> Specify which column to use as Index"
   ]
  },
  {
   "cell_type": "markdown",
   "id": "28ef5d14",
   "metadata": {},
   "source": [
    "## index = ['A', 'B', 'C'] --- > Specify a list of index names to use"
   ]
  },
  {
   "cell_type": "code",
   "execution_count": null,
   "id": "e68d2d83",
   "metadata": {},
   "outputs": [],
   "source": []
  },
  {
   "cell_type": "code",
   "execution_count": null,
   "id": "2cd059dc",
   "metadata": {},
   "outputs": [],
   "source": []
  },
  {
   "cell_type": "code",
   "execution_count": null,
   "id": "6b231546",
   "metadata": {},
   "outputs": [],
   "source": []
  },
  {
   "cell_type": "markdown",
   "id": "ff26dc17",
   "metadata": {},
   "source": [
    "### 1. na_values = '-1 '  -> Specify the correct string used for missing Values, Default is a space\n",
    "\n",
    "1. single value ---> na_values = '-1'\n",
    "2. List ---> na_values = [-99, '-', '-1]"
   ]
  },
  {
   "cell_type": "code",
   "execution_count": null,
   "id": "d1015abe",
   "metadata": {},
   "outputs": [],
   "source": []
  },
  {
   "cell_type": "markdown",
   "id": "962d61c4",
   "metadata": {},
   "source": [
    "## 2. usecols = [0,1,2] ---> Specify within the List the columns to import\n",
    "\n",
    "1. Column names by Index -- > usecols = [1,4,6,7]\n",
    "2. Column names --> ['ID', 'Date', ' Customer']"
   ]
  },
  {
   "cell_type": "code",
   "execution_count": null,
   "id": "aa3f66e2",
   "metadata": {},
   "outputs": [],
   "source": []
  },
  {
   "cell_type": "markdown",
   "id": "2d815657",
   "metadata": {},
   "source": [
    "## 3. nrows = 233 --> Specify the number of rows to import\n"
   ]
  },
  {
   "cell_type": "code",
   "execution_count": null,
   "id": "f7bfdfb2",
   "metadata": {},
   "outputs": [],
   "source": []
  },
  {
   "cell_type": "markdown",
   "id": "15ac2b45",
   "metadata": {},
   "source": [
    "## 4. skiprows = [245, 250, 299] ---> Specify the rows NOT to Import"
   ]
  },
  {
   "cell_type": "code",
   "execution_count": null,
   "id": "d9e08dbc",
   "metadata": {},
   "outputs": [],
   "source": []
  },
  {
   "cell_type": "markdown",
   "id": "113bb05a",
   "metadata": {},
   "source": [
    "## 5. parse_dates = ['Date'] ---> Specify which column is the date to be formated properly"
   ]
  },
  {
   "cell_type": "code",
   "execution_count": null,
   "id": "39539ecb",
   "metadata": {},
   "outputs": [],
   "source": []
  },
  {
   "cell_type": "markdown",
   "id": "8706e715",
   "metadata": {},
   "source": [
    "## 6. dtype = { 'ID': float} --> Specify a column to a desired dtype using Dictionary"
   ]
  },
  {
   "cell_type": "code",
   "execution_count": null,
   "id": "ec7d41d1",
   "metadata": {},
   "outputs": [],
   "source": []
  },
  {
   "cell_type": "code",
   "execution_count": null,
   "id": "255716c4",
   "metadata": {},
   "outputs": [],
   "source": []
  },
  {
   "cell_type": "markdown",
   "id": "ced02d28",
   "metadata": {},
   "source": [
    "## Creating a Dataframe from Lists"
   ]
  },
  {
   "cell_type": "code",
   "execution_count": 7,
   "id": "dcc7b293",
   "metadata": {},
   "outputs": [],
   "source": [
    "column_names = ['ID', 'Date', 'Customer']\n",
    "list1 = ['1', '1-Jan-20', 'yes']\n",
    "list2 = ['2', '2-Jan-20', 'no']\n",
    "list3 = ['3', '3-Jan-20', '.']\n"
   ]
  },
  {
   "cell_type": "code",
   "execution_count": 5,
   "id": "bf572def",
   "metadata": {},
   "outputs": [],
   "source": [
    "list_data = [list1, list2, list3]"
   ]
  },
  {
   "cell_type": "code",
   "execution_count": null,
   "id": "82de8c8f",
   "metadata": {},
   "outputs": [],
   "source": []
  },
  {
   "cell_type": "code",
   "execution_count": 6,
   "id": "4547f916",
   "metadata": {},
   "outputs": [
    {
     "data": {
      "text/html": [
       "<div>\n",
       "<style scoped>\n",
       "    .dataframe tbody tr th:only-of-type {\n",
       "        vertical-align: middle;\n",
       "    }\n",
       "\n",
       "    .dataframe tbody tr th {\n",
       "        vertical-align: top;\n",
       "    }\n",
       "\n",
       "    .dataframe thead th {\n",
       "        text-align: right;\n",
       "    }\n",
       "</style>\n",
       "<table border=\"1\" class=\"dataframe\">\n",
       "  <thead>\n",
       "    <tr style=\"text-align: right;\">\n",
       "      <th></th>\n",
       "      <th>0</th>\n",
       "      <th>1</th>\n",
       "      <th>2</th>\n",
       "    </tr>\n",
       "  </thead>\n",
       "  <tbody>\n",
       "    <tr>\n",
       "      <th>0</th>\n",
       "      <td>1</td>\n",
       "      <td>1-Jan-20</td>\n",
       "      <td>yes</td>\n",
       "    </tr>\n",
       "    <tr>\n",
       "      <th>1</th>\n",
       "      <td>2</td>\n",
       "      <td>2-Jan-20</td>\n",
       "      <td>no</td>\n",
       "    </tr>\n",
       "    <tr>\n",
       "      <th>2</th>\n",
       "      <td>3</td>\n",
       "      <td>3-Jan-20</td>\n",
       "      <td>.</td>\n",
       "    </tr>\n",
       "  </tbody>\n",
       "</table>\n",
       "</div>"
      ],
      "text/plain": [
       "   0         1    2\n",
       "0  1  1-Jan-20  yes\n",
       "1  2  2-Jan-20   no\n",
       "2  3  3-Jan-20    ."
      ]
     },
     "execution_count": 6,
     "metadata": {},
     "output_type": "execute_result"
    }
   ],
   "source": [
    "list_df = pd.DataFrame(list_data, columns = column_names)\n",
    "list_df"
   ]
  },
  {
   "cell_type": "markdown",
   "id": "df41d94a",
   "metadata": {},
   "source": [
    "## pd.concat(['DF Name_1', 'Df Name_2']) --- >Append to a Dataframe if data is same columns"
   ]
  },
  {
   "cell_type": "code",
   "execution_count": 9,
   "id": "0ceb4dcd",
   "metadata": {},
   "outputs": [],
   "source": [
    "duplicate_df = list_df"
   ]
  },
  {
   "cell_type": "code",
   "execution_count": 12,
   "id": "97edd444",
   "metadata": {},
   "outputs": [
    {
     "data": {
      "text/html": [
       "<div>\n",
       "<style scoped>\n",
       "    .dataframe tbody tr th:only-of-type {\n",
       "        vertical-align: middle;\n",
       "    }\n",
       "\n",
       "    .dataframe tbody tr th {\n",
       "        vertical-align: top;\n",
       "    }\n",
       "\n",
       "    .dataframe thead th {\n",
       "        text-align: right;\n",
       "    }\n",
       "</style>\n",
       "<table border=\"1\" class=\"dataframe\">\n",
       "  <thead>\n",
       "    <tr style=\"text-align: right;\">\n",
       "      <th></th>\n",
       "      <th>0</th>\n",
       "      <th>1</th>\n",
       "      <th>2</th>\n",
       "    </tr>\n",
       "  </thead>\n",
       "  <tbody>\n",
       "    <tr>\n",
       "      <th>0</th>\n",
       "      <td>1</td>\n",
       "      <td>1-Jan-20</td>\n",
       "      <td>yes</td>\n",
       "    </tr>\n",
       "    <tr>\n",
       "      <th>1</th>\n",
       "      <td>2</td>\n",
       "      <td>2-Jan-20</td>\n",
       "      <td>no</td>\n",
       "    </tr>\n",
       "    <tr>\n",
       "      <th>2</th>\n",
       "      <td>3</td>\n",
       "      <td>3-Jan-20</td>\n",
       "      <td>.</td>\n",
       "    </tr>\n",
       "    <tr>\n",
       "      <th>0</th>\n",
       "      <td>1</td>\n",
       "      <td>1-Jan-20</td>\n",
       "      <td>yes</td>\n",
       "    </tr>\n",
       "    <tr>\n",
       "      <th>1</th>\n",
       "      <td>2</td>\n",
       "      <td>2-Jan-20</td>\n",
       "      <td>no</td>\n",
       "    </tr>\n",
       "    <tr>\n",
       "      <th>2</th>\n",
       "      <td>3</td>\n",
       "      <td>3-Jan-20</td>\n",
       "      <td>.</td>\n",
       "    </tr>\n",
       "  </tbody>\n",
       "</table>\n",
       "</div>"
      ],
      "text/plain": [
       "   0         1    2\n",
       "0  1  1-Jan-20  yes\n",
       "1  2  2-Jan-20   no\n",
       "2  3  3-Jan-20    .\n",
       "0  1  1-Jan-20  yes\n",
       "1  2  2-Jan-20   no\n",
       "2  3  3-Jan-20    ."
      ]
     },
     "execution_count": 12,
     "metadata": {},
     "output_type": "execute_result"
    }
   ],
   "source": [
    "pd.concat([list_df, duplicate_df])"
   ]
  },
  {
   "cell_type": "code",
   "execution_count": 10,
   "id": "2fe55dc9",
   "metadata": {},
   "outputs": [
    {
     "name": "stderr",
     "output_type": "stream",
     "text": [
      "/var/folders/ff/t0ys9vx11sd6x_rkdf6p8ht40000gq/T/ipykernel_5985/2802349993.py:1: FutureWarning: The frame.append method is deprecated and will be removed from pandas in a future version. Use pandas.concat instead.\n",
      "  list_df.append(duplicate_df)\n"
     ]
    },
    {
     "data": {
      "text/html": [
       "<div>\n",
       "<style scoped>\n",
       "    .dataframe tbody tr th:only-of-type {\n",
       "        vertical-align: middle;\n",
       "    }\n",
       "\n",
       "    .dataframe tbody tr th {\n",
       "        vertical-align: top;\n",
       "    }\n",
       "\n",
       "    .dataframe thead th {\n",
       "        text-align: right;\n",
       "    }\n",
       "</style>\n",
       "<table border=\"1\" class=\"dataframe\">\n",
       "  <thead>\n",
       "    <tr style=\"text-align: right;\">\n",
       "      <th></th>\n",
       "      <th>0</th>\n",
       "      <th>1</th>\n",
       "      <th>2</th>\n",
       "    </tr>\n",
       "  </thead>\n",
       "  <tbody>\n",
       "    <tr>\n",
       "      <th>0</th>\n",
       "      <td>1</td>\n",
       "      <td>1-Jan-20</td>\n",
       "      <td>yes</td>\n",
       "    </tr>\n",
       "    <tr>\n",
       "      <th>1</th>\n",
       "      <td>2</td>\n",
       "      <td>2-Jan-20</td>\n",
       "      <td>no</td>\n",
       "    </tr>\n",
       "    <tr>\n",
       "      <th>2</th>\n",
       "      <td>3</td>\n",
       "      <td>3-Jan-20</td>\n",
       "      <td>.</td>\n",
       "    </tr>\n",
       "    <tr>\n",
       "      <th>0</th>\n",
       "      <td>1</td>\n",
       "      <td>1-Jan-20</td>\n",
       "      <td>yes</td>\n",
       "    </tr>\n",
       "    <tr>\n",
       "      <th>1</th>\n",
       "      <td>2</td>\n",
       "      <td>2-Jan-20</td>\n",
       "      <td>no</td>\n",
       "    </tr>\n",
       "    <tr>\n",
       "      <th>2</th>\n",
       "      <td>3</td>\n",
       "      <td>3-Jan-20</td>\n",
       "      <td>.</td>\n",
       "    </tr>\n",
       "  </tbody>\n",
       "</table>\n",
       "</div>"
      ],
      "text/plain": [
       "   0         1    2\n",
       "0  1  1-Jan-20  yes\n",
       "1  2  2-Jan-20   no\n",
       "2  3  3-Jan-20    .\n",
       "0  1  1-Jan-20  yes\n",
       "1  2  2-Jan-20   no\n",
       "2  3  3-Jan-20    ."
      ]
     },
     "execution_count": 10,
     "metadata": {},
     "output_type": "execute_result"
    }
   ],
   "source": [
    "list_df.append(duplicate_df)"
   ]
  },
  {
   "cell_type": "code",
   "execution_count": null,
   "id": "51c6d634",
   "metadata": {},
   "outputs": [],
   "source": []
  },
  {
   "cell_type": "markdown",
   "id": "ac4f6198",
   "metadata": {},
   "source": [
    "## Creating DataFrame from Dictionaries"
   ]
  },
  {
   "cell_type": "code",
   "execution_count": 13,
   "id": "bd0abb57",
   "metadata": {},
   "outputs": [
    {
     "data": {
      "text/html": [
       "<div>\n",
       "<style scoped>\n",
       "    .dataframe tbody tr th:only-of-type {\n",
       "        vertical-align: middle;\n",
       "    }\n",
       "\n",
       "    .dataframe tbody tr th {\n",
       "        vertical-align: top;\n",
       "    }\n",
       "\n",
       "    .dataframe thead th {\n",
       "        text-align: right;\n",
       "    }\n",
       "</style>\n",
       "<table border=\"1\" class=\"dataframe\">\n",
       "  <thead>\n",
       "    <tr style=\"text-align: right;\">\n",
       "      <th></th>\n",
       "      <th>population</th>\n",
       "      <th>area_sq_mi</th>\n",
       "    </tr>\n",
       "  </thead>\n",
       "  <tbody>\n",
       "    <tr>\n",
       "      <th>0</th>\n",
       "      <td>470914</td>\n",
       "      <td>55.25</td>\n",
       "    </tr>\n",
       "    <tr>\n",
       "      <th>1</th>\n",
       "      <td>806341</td>\n",
       "      <td>247.50</td>\n",
       "    </tr>\n",
       "    <tr>\n",
       "      <th>2</th>\n",
       "      <td>15154000</td>\n",
       "      <td>78.38</td>\n",
       "    </tr>\n",
       "  </tbody>\n",
       "</table>\n",
       "</div>"
      ],
      "text/plain": [
       "   population  area_sq_mi\n",
       "0      470914       55.25\n",
       "1      806341      247.50\n",
       "2    15154000       78.38"
      ]
     },
     "execution_count": 13,
     "metadata": {},
     "output_type": "execute_result"
    }
   ],
   "source": [
    "a = pd.DataFrame({'population': [470914, 806341, 15154000], \n",
    "                 'area_sq_mi': [55.25, 247.5, 78.38]} )\n",
    "a"
   ]
  },
  {
   "cell_type": "markdown",
   "id": "7461a561",
   "metadata": {},
   "source": [
    "## dict(zip(dict_names, dict_val)) ---> Dataframe from list of keys & list of values converted to Dict"
   ]
  },
  {
   "cell_type": "code",
   "execution_count": 19,
   "id": "b33618a0",
   "metadata": {},
   "outputs": [],
   "source": [
    "dict_keys = ['population', 'area_sq_mi'] \n",
    "\n",
    "dict_val = [[470914, 806341, 15154000],[55.25, 247.5, 78.38] ]"
   ]
  },
  {
   "cell_type": "code",
   "execution_count": 20,
   "id": "f0d21b6c",
   "metadata": {},
   "outputs": [
    {
     "data": {
      "text/plain": [
       "{'population': [470914, 806341, 15154000], 'area_sq_mi': [55.25, 247.5, 78.38]}"
      ]
     },
     "execution_count": 20,
     "metadata": {},
     "output_type": "execute_result"
    }
   ],
   "source": [
    "data_dict = dict(zip(dict_keys, dict_val))\n",
    "data_dict"
   ]
  },
  {
   "cell_type": "code",
   "execution_count": 21,
   "id": "2b94de15",
   "metadata": {},
   "outputs": [
    {
     "data": {
      "text/html": [
       "<div>\n",
       "<style scoped>\n",
       "    .dataframe tbody tr th:only-of-type {\n",
       "        vertical-align: middle;\n",
       "    }\n",
       "\n",
       "    .dataframe tbody tr th {\n",
       "        vertical-align: top;\n",
       "    }\n",
       "\n",
       "    .dataframe thead th {\n",
       "        text-align: right;\n",
       "    }\n",
       "</style>\n",
       "<table border=\"1\" class=\"dataframe\">\n",
       "  <thead>\n",
       "    <tr style=\"text-align: right;\">\n",
       "      <th></th>\n",
       "      <th>population</th>\n",
       "      <th>area_sq_mi</th>\n",
       "    </tr>\n",
       "  </thead>\n",
       "  <tbody>\n",
       "    <tr>\n",
       "      <th>0</th>\n",
       "      <td>470914</td>\n",
       "      <td>55.25</td>\n",
       "    </tr>\n",
       "    <tr>\n",
       "      <th>1</th>\n",
       "      <td>806341</td>\n",
       "      <td>247.50</td>\n",
       "    </tr>\n",
       "    <tr>\n",
       "      <th>2</th>\n",
       "      <td>15154000</td>\n",
       "      <td>78.38</td>\n",
       "    </tr>\n",
       "  </tbody>\n",
       "</table>\n",
       "</div>"
      ],
      "text/plain": [
       "   population  area_sq_mi\n",
       "0      470914       55.25\n",
       "1      806341      247.50\n",
       "2    15154000       78.38"
      ]
     },
     "execution_count": 21,
     "metadata": {},
     "output_type": "execute_result"
    }
   ],
   "source": [
    "cc = pd.DataFrame(dict(zip(dict_keys, dict_val)))\n",
    "cc"
   ]
  },
  {
   "cell_type": "code",
   "execution_count": 22,
   "id": "7b0eb9ab",
   "metadata": {},
   "outputs": [
    {
     "data": {
      "text/html": [
       "<div>\n",
       "<style scoped>\n",
       "    .dataframe tbody tr th:only-of-type {\n",
       "        vertical-align: middle;\n",
       "    }\n",
       "\n",
       "    .dataframe tbody tr th {\n",
       "        vertical-align: top;\n",
       "    }\n",
       "\n",
       "    .dataframe thead th {\n",
       "        text-align: right;\n",
       "    }\n",
       "</style>\n",
       "<table border=\"1\" class=\"dataframe\">\n",
       "  <thead>\n",
       "    <tr style=\"text-align: right;\">\n",
       "      <th></th>\n",
       "      <th>0</th>\n",
       "      <th>1</th>\n",
       "      <th>2</th>\n",
       "    </tr>\n",
       "  </thead>\n",
       "  <tbody>\n",
       "    <tr>\n",
       "      <th>population</th>\n",
       "      <td>470914.00</td>\n",
       "      <td>806341.0</td>\n",
       "      <td>15154000.00</td>\n",
       "    </tr>\n",
       "    <tr>\n",
       "      <th>area_sq_mi</th>\n",
       "      <td>55.25</td>\n",
       "      <td>247.5</td>\n",
       "      <td>78.38</td>\n",
       "    </tr>\n",
       "  </tbody>\n",
       "</table>\n",
       "</div>"
      ],
      "text/plain": [
       "                    0         1            2\n",
       "population  470914.00  806341.0  15154000.00\n",
       "area_sq_mi      55.25     247.5        78.38"
      ]
     },
     "execution_count": 22,
     "metadata": {},
     "output_type": "execute_result"
    }
   ],
   "source": [
    "dd = pd.DataFrame.from_dict(data_dict, orient='index')\n",
    "dd"
   ]
  },
  {
   "cell_type": "code",
   "execution_count": 23,
   "id": "998d2b8f",
   "metadata": {},
   "outputs": [
    {
     "data": {
      "text/html": [
       "<div>\n",
       "<style scoped>\n",
       "    .dataframe tbody tr th:only-of-type {\n",
       "        vertical-align: middle;\n",
       "    }\n",
       "\n",
       "    .dataframe tbody tr th {\n",
       "        vertical-align: top;\n",
       "    }\n",
       "\n",
       "    .dataframe thead th {\n",
       "        text-align: right;\n",
       "    }\n",
       "</style>\n",
       "<table border=\"1\" class=\"dataframe\">\n",
       "  <thead>\n",
       "    <tr style=\"text-align: right;\">\n",
       "      <th></th>\n",
       "      <th>population</th>\n",
       "      <th>area_sq_mi</th>\n",
       "    </tr>\n",
       "  </thead>\n",
       "  <tbody>\n",
       "    <tr>\n",
       "      <th>0</th>\n",
       "      <td>470914.0</td>\n",
       "      <td>55.25</td>\n",
       "    </tr>\n",
       "    <tr>\n",
       "      <th>1</th>\n",
       "      <td>806341.0</td>\n",
       "      <td>247.50</td>\n",
       "    </tr>\n",
       "    <tr>\n",
       "      <th>2</th>\n",
       "      <td>15154000.0</td>\n",
       "      <td>78.38</td>\n",
       "    </tr>\n",
       "  </tbody>\n",
       "</table>\n",
       "</div>"
      ],
      "text/plain": [
       "   population  area_sq_mi\n",
       "0    470914.0       55.25\n",
       "1    806341.0      247.50\n",
       "2  15154000.0       78.38"
      ]
     },
     "execution_count": 23,
     "metadata": {},
     "output_type": "execute_result"
    }
   ],
   "source": [
    "dd.transpose()"
   ]
  },
  {
   "cell_type": "code",
   "execution_count": null,
   "id": "1e4c080d",
   "metadata": {},
   "outputs": [],
   "source": []
  },
  {
   "cell_type": "markdown",
   "id": "7d3e694a",
   "metadata": {},
   "source": [
    "## Create a dataframe from Dictionary of Dictionaries"
   ]
  },
  {
   "cell_type": "code",
   "execution_count": 24,
   "id": "ba1b8e38",
   "metadata": {},
   "outputs": [],
   "source": [
    "data_dict = {\n",
    "    \n",
    "    0: {'ID' : '1',\n",
    "       'Name': 'Joe',\n",
    "       'Dept': 'Finance'       \n",
    "    },\n",
    "    \n",
    "     1 :{'ID' : '2',\n",
    "       'Name': 'Mark',\n",
    "       'Dept': 'HR'       \n",
    "    } \n",
    "}"
   ]
  },
  {
   "cell_type": "code",
   "execution_count": 25,
   "id": "134ab029",
   "metadata": {},
   "outputs": [
    {
     "data": {
      "text/html": [
       "<div>\n",
       "<style scoped>\n",
       "    .dataframe tbody tr th:only-of-type {\n",
       "        vertical-align: middle;\n",
       "    }\n",
       "\n",
       "    .dataframe tbody tr th {\n",
       "        vertical-align: top;\n",
       "    }\n",
       "\n",
       "    .dataframe thead th {\n",
       "        text-align: right;\n",
       "    }\n",
       "</style>\n",
       "<table border=\"1\" class=\"dataframe\">\n",
       "  <thead>\n",
       "    <tr style=\"text-align: right;\">\n",
       "      <th></th>\n",
       "      <th>0</th>\n",
       "      <th>1</th>\n",
       "    </tr>\n",
       "  </thead>\n",
       "  <tbody>\n",
       "    <tr>\n",
       "      <th>ID</th>\n",
       "      <td>1</td>\n",
       "      <td>2</td>\n",
       "    </tr>\n",
       "    <tr>\n",
       "      <th>Name</th>\n",
       "      <td>Joe</td>\n",
       "      <td>Mark</td>\n",
       "    </tr>\n",
       "    <tr>\n",
       "      <th>Dept</th>\n",
       "      <td>Finance</td>\n",
       "      <td>HR</td>\n",
       "    </tr>\n",
       "  </tbody>\n",
       "</table>\n",
       "</div>"
      ],
      "text/plain": [
       "            0     1\n",
       "ID          1     2\n",
       "Name      Joe  Mark\n",
       "Dept  Finance    HR"
      ]
     },
     "execution_count": 25,
     "metadata": {},
     "output_type": "execute_result"
    }
   ],
   "source": [
    "pd.DataFrame(data_dict)"
   ]
  },
  {
   "cell_type": "code",
   "execution_count": 26,
   "id": "478d3eba",
   "metadata": {},
   "outputs": [
    {
     "data": {
      "text/html": [
       "<div>\n",
       "<style scoped>\n",
       "    .dataframe tbody tr th:only-of-type {\n",
       "        vertical-align: middle;\n",
       "    }\n",
       "\n",
       "    .dataframe tbody tr th {\n",
       "        vertical-align: top;\n",
       "    }\n",
       "\n",
       "    .dataframe thead th {\n",
       "        text-align: right;\n",
       "    }\n",
       "</style>\n",
       "<table border=\"1\" class=\"dataframe\">\n",
       "  <thead>\n",
       "    <tr style=\"text-align: right;\">\n",
       "      <th></th>\n",
       "      <th>ID</th>\n",
       "      <th>Name</th>\n",
       "      <th>Dept</th>\n",
       "    </tr>\n",
       "  </thead>\n",
       "  <tbody>\n",
       "    <tr>\n",
       "      <th>0</th>\n",
       "      <td>1</td>\n",
       "      <td>Joe</td>\n",
       "      <td>Finance</td>\n",
       "    </tr>\n",
       "    <tr>\n",
       "      <th>1</th>\n",
       "      <td>2</td>\n",
       "      <td>Mark</td>\n",
       "      <td>HR</td>\n",
       "    </tr>\n",
       "  </tbody>\n",
       "</table>\n",
       "</div>"
      ],
      "text/plain": [
       "  ID  Name     Dept\n",
       "0  1   Joe  Finance\n",
       "1  2  Mark       HR"
      ]
     },
     "execution_count": 26,
     "metadata": {},
     "output_type": "execute_result"
    }
   ],
   "source": [
    "pd.DataFrame(data_dict).transpose()"
   ]
  },
  {
   "cell_type": "code",
   "execution_count": null,
   "id": "1de70027",
   "metadata": {},
   "outputs": [],
   "source": []
  },
  {
   "cell_type": "markdown",
   "id": "c3c5f1f9",
   "metadata": {},
   "source": [
    "## Opening Files with Python"
   ]
  },
  {
   "cell_type": "markdown",
   "id": "8bef0927",
   "metadata": {},
   "source": [
    "## Import TXT Files"
   ]
  },
  {
   "cell_type": "code",
   "execution_count": 28,
   "id": "bbae4419",
   "metadata": {},
   "outputs": [
    {
     "name": "stdout",
     "output_type": "stream",
     "text": [
      "ID,target,age,gender,steroid,antivirals,fatigue,malaise,anorexia,liverBig,liverFirm,spleen,spiders,ascites,varices,bili,alk,sgot,albu,protime,histology\n",
      "1,2,30,2,1,2,2,2,2,1,2,2,2,2,2,1,85,18,4,?,1\n",
      "2,2,50,1,1,2,1,2,2,1,2,2,2,2,2,0.9,135,42,3.5,?,1\n",
      "3,2,78,1,2,2,1,2,2,2,2,2,2,2,2,0.7,96,32,4,?,1\n",
      "4,2,31,1,?,1,2,2,2,2,2,2,2,2,2,0.7,46,52,4,80,1\n",
      "5,2,34,1,2,2,2,2,2,2,2,2,2,2,2,1,?,200,4,?,1\n",
      "6,2,34,1,2,2,2,2,2,2,2,2,2,2,2,0.9,95,28,4,75,1\n",
      "7,1,51,1,1,2,1,2,1,2,2,1,1,2,2,?,?,?,?,?,1\n",
      "8,2,23,1,2,2,2,2,2,2,2,2,2,2,2,1,?,?,?,?,1\n",
      "9,2,39,1,2,2,1,2,2,2,1,2,2,2,2,0.7,?,48,4.4,?,1\n",
      "10,2,30,1,2,2,2,2,2,2,2,2,2,2,2,1,?,120,3.9,?,1\n",
      "11,2,39,1,1,1,2,2,2,1,1,2,2,2,2,1.3,78,30,4.4,85,1\n",
      "12,2,32,1,2,1,1,2,2,2,1,2,1,2,2,1,59,249,3.7,54,1\n",
      "13,2,41,1,2,1,1,2,2,2,1,2,2,2,2,0.9,81,60,3.9,52,1\n",
      "14,2,30,1,2,2,1,2,2,2,1,2,2,2,2,2.2,57,144,4.9,78,1\n",
      "15,2,47,1,1,1,2,2,2,2,2,2,2,2,2,?,?,60,?,?,1\n",
      "16,2,38,1,1,2,1,1,1,2,2,2,2,1,2,2,72,89,2.9,46,1\n",
      "17,2,66,1,2,2,1,2,2,2,2,2,2,2,2,1.2,102,53,4.3,?,1\n",
      "18,2,40,1,1,2,1,2,2,2,1,2,2,2,2,0.6,62,166,4,63,1\n",
      "19,2,38,1,2,2,2,2,2,2,2,2,2,2,2,0.7,53,42,4.1,85,2\n",
      "20,2,38,1,1,1,2,2,2,1,1,2,2,2,2,0.7,70,28,4.2,62,1\n",
      "21,2,22,2,2,1,1,2,2,2,2,2,2,2,2,0.9,48,20,4.2,64,1\n",
      "22,2,27,1,2,2,1,1,1,1,1,1,1,2,2,1.2,133,98,4.1,39,1\n",
      "23,2,31,1,2,2,2,2,2,2,2,2,2,2,2,1,85,20,4,100,1\n",
      "24,2,42,1,2,2,2,2,2,2,2,2,2,2,2,0.9,60,63,4.7,47,1\n",
      "25,2,25,2,1,1,2,2,2,2,2,2,2,2,2,0.4,45,18,4.3,70,1\n",
      "26,2,27,1,1,2,1,1,2,2,2,2,2,2,2,0.8,95,46,3.8,100,1\n",
      "27,2,49,1,1,1,1,1,1,2,1,2,1,2,2,0.6,85,48,3.7,?,1\n",
      "28,2,58,2,2,2,1,2,2,2,1,2,1,2,2,1.4,175,55,2.7,36,1\n",
      "29,2,61,1,1,2,1,2,2,1,1,2,2,2,2,1.3,78,25,3.8,100,1\n",
      "30,2,51,1,1,1,1,1,2,2,2,2,2,2,2,1,78,58,4.6,52,1\n",
      "31,1,39,1,1,1,1,1,2,2,1,2,2,2,2,2.3,280,98,3.8,40,1\n",
      "32,1,62,1,1,2,1,1,2,?,?,2,2,2,2,1,?,60,?,?,1\n",
      "33,2,41,2,2,1,1,1,1,2,2,2,2,2,2,0.7,81,53,5,74,1\n",
      "34,2,26,2,1,2,2,2,2,2,1,2,2,2,2,0.5,135,29,3.8,60,1\n",
      "35,2,35,1,2,2,1,2,2,2,2,2,2,2,2,0.9,58,92,4.3,73,1\n",
      "36,1,37,1,2,2,1,2,2,2,2,2,1,2,2,0.6,67,28,4.2,?,1\n",
      "37,2,23,1,2,2,1,1,1,2,2,1,2,2,2,1.3,194,150,4.1,90,1\n",
      "38,2,20,2,1,2,1,1,1,1,1,1,1,2,2,2.3,150,68,3.9,?,1\n",
      "39,2,42,1,1,2,2,2,2,2,2,2,2,2,2,1,85,14,4,100,1\n",
      "40,2,65,1,2,2,1,1,2,2,1,1,1,1,2,0.3,180,53,2.9,74,2\n",
      "41,2,52,1,1,1,2,2,2,2,2,2,2,2,2,0.7,75,55,4,21,1\n",
      "42,2,23,1,2,2,2,2,2,?,?,?,?,?,?,4.6,56,16,4.6,?,1\n",
      "43,2,33,1,2,2,2,2,2,2,2,2,2,2,2,1,46,90,4.4,60,1\n",
      "44,2,56,1,1,2,1,2,2,2,2,2,2,2,2,0.7,71,18,4.4,100,1\n",
      "45,2,34,1,2,2,2,2,2,2,2,2,2,2,2,?,?,86,?,?,1\n",
      "46,2,28,1,2,2,1,1,2,2,2,2,2,2,2,0.7,74,110,4.4,?,1\n",
      "47,2,37,1,1,2,2,2,2,2,1,2,1,2,2,0.6,80,80,3.8,?,1\n",
      "48,2,28,2,2,2,1,1,2,2,1,2,2,2,2,1.8,191,420,3.3,46,1\n",
      "49,2,36,1,1,2,2,2,2,2,2,1,2,2,2,0.8,85,44,4.2,85,1\n",
      "50,2,38,1,2,1,1,1,1,2,2,2,1,2,2,0.7,125,65,4.2,77,1\n",
      "51,2,39,1,1,2,2,2,2,2,2,2,2,2,2,0.9,85,60,4,?,1\n",
      "52,2,39,1,2,2,2,2,2,2,2,2,2,2,2,1,85,20,4,?,1\n",
      "53,2,44,1,2,2,2,2,2,2,2,2,2,2,2,0.6,110,145,4.4,70,1\n",
      "54,2,40,1,2,1,1,2,2,2,1,1,2,2,2,1.2,85,31,4,100,1\n",
      "55,2,30,1,2,2,1,2,2,2,2,2,2,2,2,0.7,50,78,4.2,74,1\n",
      "56,2,37,1,1,2,1,1,1,2,2,2,2,2,2,0.8,92,59,?,?,1\n",
      "57,2,34,1,1,2,?,?,?,?,?,?,?,?,?,?,?,?,?,?,1\n",
      "58,2,30,1,2,1,2,2,2,2,2,2,2,2,2,0.7,52,38,3.9,52,1\n",
      "59,2,64,1,2,1,1,1,2,1,1,2,2,2,2,1,80,38,4.3,74,1\n",
      "60,2,45,2,1,2,1,1,2,2,2,1,2,2,2,1,85,75,?,?,1\n",
      "61,2,37,1,2,2,2,2,2,2,2,2,2,2,2,0.7,26,58,4.5,100,1\n",
      "62,2,32,1,2,2,2,2,2,2,2,2,2,2,2,0.7,102,64,4,90,1\n",
      "63,2,32,1,2,2,1,1,1,2,2,2,1,2,1,3.5,215,54,3.4,29,1\n",
      "64,2,36,1,1,2,2,2,2,1,1,1,2,2,2,0.7,164,44,3.1,41,1\n",
      "65,2,49,1,2,2,1,1,2,2,2,2,2,2,2,0.8,103,43,3.5,66,1\n",
      "66,2,27,1,2,2,2,2,2,2,2,2,2,2,2,0.8,?,38,4.2,?,1\n",
      "67,2,56,1,1,2,2,2,2,2,2,2,2,2,2,0.7,62,33,3,?,1\n",
      "68,1,57,1,2,2,1,1,1,2,2,2,1,1,2,4.1,?,48,2.6,73,1\n",
      "69,2,39,1,2,2,1,2,2,2,2,2,2,2,2,1,34,15,4,54,1\n",
      "70,2,44,1,1,2,1,1,2,2,2,2,2,2,2,1.6,68,68,3.7,?,1\n",
      "71,2,24,1,2,2,2,2,2,2,2,2,2,2,2,0.8,82,39,4.3,?,1\n",
      "72,1,34,1,1,2,1,1,2,1,1,2,1,2,2,2.8,127,182,?,?,1\n",
      "73,2,51,1,2,2,1,1,1,?,?,?,?,?,?,0.9,76,271,4.4,?,1\n",
      "74,2,36,1,1,2,1,1,1,2,1,2,2,2,2,1,?,45,4,57,1\n",
      "75,2,50,1,2,2,2,2,2,2,2,2,2,2,2,1.5,100,100,5.3,?,1\n",
      "76,2,32,1,1,1,1,1,2,2,2,2,2,2,2,1,55,45,4.1,56,1\n",
      "77,1,58,1,2,2,1,2,2,1,1,1,1,2,2,2,167,242,3.3,?,1\n",
      "78,2,34,2,1,1,2,2,2,2,1,2,2,2,2,0.6,30,24,4,76,1\n",
      "79,2,34,1,1,2,1,2,2,1,1,2,1,2,2,1,72,46,4.4,57,1\n",
      "80,2,28,1,2,2,2,2,2,2,2,2,2,2,2,0.7,85,31,4.9,?,1\n",
      "81,2,23,1,2,2,1,1,1,2,2,2,2,2,2,0.8,?,14,4.8,?,1\n",
      "82,2,36,1,2,2,2,2,2,2,2,2,2,2,2,0.7,62,224,4.2,100,1\n",
      "83,2,30,1,1,2,2,2,2,2,2,2,2,2,2,0.7,100,31,4,100,1\n",
      "84,2,67,2,1,2,1,1,2,2,2,?,?,?,?,1.5,179,69,2.9,?,1\n",
      "85,2,62,2,2,2,1,1,2,2,1,2,1,2,2,1.3,141,156,3.9,58,1\n",
      "86,2,28,1,1,2,1,1,1,2,1,2,2,2,2,1.6,44,123,4,46,1\n",
      "87,1,44,1,1,2,1,1,2,2,2,1,2,2,1,0.9,135,55,?,41,2\n",
      "88,1,30,1,2,2,1,1,1,2,1,2,1,1,1,2.5,165,64,2.8,?,2\n",
      "89,1,38,1,1,2,1,1,1,2,1,2,1,1,1,1.2,118,16,2.8,?,2\n",
      "90,2,38,1,1,2,1,1,1,1,1,2,2,2,2,0.6,76,18,4.4,84,2\n",
      "91,2,50,2,1,2,1,2,2,1,1,1,1,2,2,0.9,230,117,3.4,41,2\n",
      "92,1,42,1,1,2,1,1,1,2,2,1,1,2,1,4.6,?,55,3.3,?,2\n",
      "93,2,33,1,2,2,2,2,2,?,?,2,2,2,2,1,?,60,4,?,2\n",
      "94,2,52,1,1,2,2,2,2,2,2,2,2,2,2,1.5,?,69,2.9,?,2\n",
      "95,1,59,1,1,2,1,1,2,2,1,1,1,2,2,1.5,107,157,3.6,38,2\n",
      "96,2,40,1,1,1,1,1,1,1,1,2,2,2,2,0.6,40,69,4.2,67,2\n",
      "97,2,30,1,1,2,1,1,2,2,1,2,1,2,2,0.8,147,128,3.9,100,2\n",
      "98,2,44,1,1,2,1,1,2,1,1,2,1,2,2,3,114,65,3.5,?,2\n",
      "99,1,47,1,2,2,2,2,2,2,2,2,1,2,1,2,84,23,4.2,66,2\n",
      "100,2,60,1,1,2,1,2,2,1,1,1,1,2,2,?,?,40,?,?,2\n",
      "101,1,48,1,1,2,1,1,2,2,1,2,1,1,1,4.8,123,157,2.7,31,2\n",
      "102,2,22,1,2,2,2,2,2,2,2,2,2,2,2,0.7,?,24,?,?,2\n",
      "103,2,27,1,1,2,1,2,2,2,1,2,2,2,2,2.4,168,227,3,66,2\n",
      "104,2,51,1,1,2,1,1,1,2,1,1,1,2,1,4.6,215,269,3.9,51,2\n",
      "105,1,47,1,2,2,1,1,2,2,1,2,2,1,1,1.7,86,20,2.1,46,2\n",
      "106,2,25,1,2,2,2,2,2,2,2,2,2,2,2,0.6,?,34,6.4,?,2\n",
      "107,1,35,1,1,2,1,2,2,?,?,1,1,1,2,1.5,138,58,2.6,?,2\n",
      "108,2,45,1,1,2,1,1,1,2,2,2,2,2,2,2.3,?,648,?,?,2\n",
      "109,2,54,1,1,1,2,2,2,1,1,2,2,2,2,1,155,225,3.6,67,2\n",
      "110,1,33,1,1,2,1,1,2,2,2,2,2,1,2,0.7,63,80,3,31,2\n",
      "111,2,7,1,2,2,2,2,2,2,1,1,2,2,2,0.7,256,25,4.2,?,2\n",
      "112,1,42,1,1,1,1,1,2,2,2,2,1,2,2,0.5,62,68,3.8,29,2\n",
      "113,2,52,1,1,2,1,2,2,2,2,2,2,2,2,1,85,30,4,?,2\n",
      "114,2,45,1,1,2,1,2,2,2,1,1,2,2,2,1.2,81,65,3,?,1\n",
      "115,2,36,1,1,2,2,2,2,2,2,2,2,2,2,1.1,141,75,3.3,?,2\n",
      "116,2,69,2,2,2,1,2,2,2,2,2,2,2,2,3.2,119,136,?,?,2\n",
      "117,2,24,1,1,2,1,2,2,2,2,2,2,2,2,1,?,34,4.1,?,2\n",
      "118,2,50,1,2,2,2,2,2,2,2,2,2,2,2,1,139,81,3.9,62,2\n",
      "119,1,61,1,1,2,1,1,2,?,?,2,1,2,2,?,?,?,?,?,2\n",
      "120,2,54,1,2,2,1,2,2,1,1,2,2,2,2,3.2,85,28,3.8,?,2\n",
      "121,1,56,1,1,2,1,1,1,1,1,2,1,2,2,2.9,90,153,4,?,2\n",
      "122,2,20,1,1,2,1,1,1,2,2,2,1,1,2,1,160,118,2.9,23,2\n",
      "123,2,42,1,2,2,2,2,2,2,2,1,2,2,2,1.5,85,40,?,?,2\n",
      "124,2,37,1,1,2,1,2,2,2,2,2,1,2,2,0.9,?,231,4.3,?,2\n",
      "125,2,50,1,2,2,2,2,2,2,1,1,1,2,2,1,85,75,4,72,2\n",
      "126,2,34,2,2,2,1,1,1,1,1,2,1,2,2,0.7,70,24,4.1,100,2\n",
      "127,2,28,1,2,2,1,1,1,?,?,2,1,1,2,1,?,20,4,?,2\n",
      "128,1,50,1,2,2,1,2,2,2,1,1,2,1,1,2.8,155,75,2.4,32,2\n",
      "129,2,54,1,1,2,1,1,2,2,2,2,2,1,2,1.2,85,92,3.1,66,2\n",
      "130,1,57,1,1,2,1,1,2,2,2,2,1,1,2,4.6,82,55,3.3,30,2\n",
      "131,2,54,1,2,2,2,2,2,2,2,2,2,2,2,1,85,30,4.5,0,2\n",
      "132,1,31,1,1,2,1,1,1,2,2,1,2,2,2,8,?,101,2.2,?,2\n",
      "133,2,48,1,2,2,1,1,1,2,1,2,1,2,2,2,158,278,3.8,?,2\n",
      "134,2,72,1,2,1,1,2,2,2,1,2,2,2,2,1,115,52,3.4,50,2\n",
      "135,1,38,1,1,2,2,2,2,2,1,2,2,2,2,0.4,243,49,3.8,90,2\n",
      "136,2,25,1,2,2,1,2,2,1,1,1,1,1,1,1.3,181,181,4.5,57,2\n",
      "137,2,51,1,2,2,2,2,2,1,1,2,1,2,2,0.8,?,33,4.5,?,2\n",
      "138,2,38,1,2,2,2,2,2,2,1,2,1,2,1,1.6,130,140,3.5,56,2\n",
      "139,1,47,1,2,2,1,1,2,2,1,2,1,1,1,1,166,30,2.6,31,2\n",
      "140,2,45,1,2,1,2,2,2,2,2,2,2,2,2,1.3,85,44,4.2,85,2\n",
      "141,2,36,1,1,2,1,1,1,1,1,2,1,2,1,1.7,295,60,2.7,?,2\n",
      "142,1,54,1,1,2,1,1,2,?,?,1,2,1,2,3.9,120,28,3.5,43,2\n",
      "143,2,51,1,2,2,1,2,2,2,1,1,1,2,1,1,?,20,3,63,2\n",
      "144,1,49,1,1,2,1,1,2,2,2,1,1,2,2,1.4,85,70,3.5,35,2\n",
      "145,1,45,1,2,2,1,1,1,2,2,2,1,1,2,1.9,?,114,2.4,?,2\n",
      "146,2,31,1,1,2,1,2,2,2,2,2,2,2,2,1.2,75,173,4.2,54,2\n",
      "147,1,41,1,2,2,1,2,2,2,1,1,1,2,1,4.2,65,120,3.4,?,2\n",
      "148,1,70,1,1,2,1,1,1,?,?,?,?,?,?,1.7,109,528,2.8,35,2\n",
      "149,2,20,1,1,2,2,2,2,2,?,2,2,2,2,0.9,89,152,4,?,2\n",
      "150,2,36,1,2,2,2,2,2,2,2,2,2,2,2,0.6,120,30,4,?,2\n",
      "151,1,46,1,2,2,1,1,1,2,2,2,1,1,1,7.6,?,242,3.3,50,2\n",
      "152,2,44,1,2,2,1,2,2,2,1,2,2,2,2,0.9,126,142,4.3,?,2\n",
      "153,2,61,1,1,2,1,1,2,1,1,2,1,2,2,0.8,75,20,4.1,?,2\n",
      "154,2,53,2,1,2,1,2,2,2,2,1,1,2,1,1.5,81,19,4.1,48,2\n",
      "155,1,43,1,2,2,1,2,2,2,2,1,1,1,2,1.2,100,19,3.1,42,2\n",
      "\n"
     ]
    }
   ],
   "source": [
    "with open('hepatitis.csv', 'r') as file:\n",
    "    print(file.read())"
   ]
  },
  {
   "cell_type": "code",
   "execution_count": null,
   "id": "1769654b",
   "metadata": {},
   "outputs": [],
   "source": []
  },
  {
   "cell_type": "markdown",
   "id": "8e0c7ac2",
   "metadata": {},
   "source": [
    "## Import CSV Files"
   ]
  },
  {
   "cell_type": "code",
   "execution_count": 29,
   "id": "33bb122b",
   "metadata": {},
   "outputs": [],
   "source": [
    "import csv"
   ]
  },
  {
   "cell_type": "code",
   "execution_count": 31,
   "id": "7b51eb5e",
   "metadata": {},
   "outputs": [
    {
     "name": "stdout",
     "output_type": "stream",
     "text": [
      "['ID', 'target', 'age', 'gender', 'steroid', 'antivirals', 'fatigue', 'malaise', 'anorexia', 'liverBig', 'liverFirm', 'spleen', 'spiders', 'ascites', 'varices', 'bili', 'alk', 'sgot', 'albu', 'protime', 'histology']\n",
      "['1', '2', '30', '2', '1', '2', '2', '2', '2', '1', '2', '2', '2', '2', '2', '1', '85', '18', '4', '?', '1']\n",
      "['2', '2', '50', '1', '1', '2', '1', '2', '2', '1', '2', '2', '2', '2', '2', '0.9', '135', '42', '3.5', '?', '1']\n",
      "['3', '2', '78', '1', '2', '2', '1', '2', '2', '2', '2', '2', '2', '2', '2', '0.7', '96', '32', '4', '?', '1']\n",
      "['4', '2', '31', '1', '?', '1', '2', '2', '2', '2', '2', '2', '2', '2', '2', '0.7', '46', '52', '4', '80', '1']\n",
      "['5', '2', '34', '1', '2', '2', '2', '2', '2', '2', '2', '2', '2', '2', '2', '1', '?', '200', '4', '?', '1']\n",
      "['6', '2', '34', '1', '2', '2', '2', '2', '2', '2', '2', '2', '2', '2', '2', '0.9', '95', '28', '4', '75', '1']\n",
      "['7', '1', '51', '1', '1', '2', '1', '2', '1', '2', '2', '1', '1', '2', '2', '?', '?', '?', '?', '?', '1']\n",
      "['8', '2', '23', '1', '2', '2', '2', '2', '2', '2', '2', '2', '2', '2', '2', '1', '?', '?', '?', '?', '1']\n",
      "['9', '2', '39', '1', '2', '2', '1', '2', '2', '2', '1', '2', '2', '2', '2', '0.7', '?', '48', '4.4', '?', '1']\n",
      "['10', '2', '30', '1', '2', '2', '2', '2', '2', '2', '2', '2', '2', '2', '2', '1', '?', '120', '3.9', '?', '1']\n",
      "['11', '2', '39', '1', '1', '1', '2', '2', '2', '1', '1', '2', '2', '2', '2', '1.3', '78', '30', '4.4', '85', '1']\n",
      "['12', '2', '32', '1', '2', '1', '1', '2', '2', '2', '1', '2', '1', '2', '2', '1', '59', '249', '3.7', '54', '1']\n",
      "['13', '2', '41', '1', '2', '1', '1', '2', '2', '2', '1', '2', '2', '2', '2', '0.9', '81', '60', '3.9', '52', '1']\n",
      "['14', '2', '30', '1', '2', '2', '1', '2', '2', '2', '1', '2', '2', '2', '2', '2.2', '57', '144', '4.9', '78', '1']\n",
      "['15', '2', '47', '1', '1', '1', '2', '2', '2', '2', '2', '2', '2', '2', '2', '?', '?', '60', '?', '?', '1']\n",
      "['16', '2', '38', '1', '1', '2', '1', '1', '1', '2', '2', '2', '2', '1', '2', '2', '72', '89', '2.9', '46', '1']\n",
      "['17', '2', '66', '1', '2', '2', '1', '2', '2', '2', '2', '2', '2', '2', '2', '1.2', '102', '53', '4.3', '?', '1']\n",
      "['18', '2', '40', '1', '1', '2', '1', '2', '2', '2', '1', '2', '2', '2', '2', '0.6', '62', '166', '4', '63', '1']\n",
      "['19', '2', '38', '1', '2', '2', '2', '2', '2', '2', '2', '2', '2', '2', '2', '0.7', '53', '42', '4.1', '85', '2']\n",
      "['20', '2', '38', '1', '1', '1', '2', '2', '2', '1', '1', '2', '2', '2', '2', '0.7', '70', '28', '4.2', '62', '1']\n",
      "['21', '2', '22', '2', '2', '1', '1', '2', '2', '2', '2', '2', '2', '2', '2', '0.9', '48', '20', '4.2', '64', '1']\n",
      "['22', '2', '27', '1', '2', '2', '1', '1', '1', '1', '1', '1', '1', '2', '2', '1.2', '133', '98', '4.1', '39', '1']\n",
      "['23', '2', '31', '1', '2', '2', '2', '2', '2', '2', '2', '2', '2', '2', '2', '1', '85', '20', '4', '100', '1']\n",
      "['24', '2', '42', '1', '2', '2', '2', '2', '2', '2', '2', '2', '2', '2', '2', '0.9', '60', '63', '4.7', '47', '1']\n",
      "['25', '2', '25', '2', '1', '1', '2', '2', '2', '2', '2', '2', '2', '2', '2', '0.4', '45', '18', '4.3', '70', '1']\n",
      "['26', '2', '27', '1', '1', '2', '1', '1', '2', '2', '2', '2', '2', '2', '2', '0.8', '95', '46', '3.8', '100', '1']\n",
      "['27', '2', '49', '1', '1', '1', '1', '1', '1', '2', '1', '2', '1', '2', '2', '0.6', '85', '48', '3.7', '?', '1']\n",
      "['28', '2', '58', '2', '2', '2', '1', '2', '2', '2', '1', '2', '1', '2', '2', '1.4', '175', '55', '2.7', '36', '1']\n",
      "['29', '2', '61', '1', '1', '2', '1', '2', '2', '1', '1', '2', '2', '2', '2', '1.3', '78', '25', '3.8', '100', '1']\n",
      "['30', '2', '51', '1', '1', '1', '1', '1', '2', '2', '2', '2', '2', '2', '2', '1', '78', '58', '4.6', '52', '1']\n",
      "['31', '1', '39', '1', '1', '1', '1', '1', '2', '2', '1', '2', '2', '2', '2', '2.3', '280', '98', '3.8', '40', '1']\n",
      "['32', '1', '62', '1', '1', '2', '1', '1', '2', '?', '?', '2', '2', '2', '2', '1', '?', '60', '?', '?', '1']\n",
      "['33', '2', '41', '2', '2', '1', '1', '1', '1', '2', '2', '2', '2', '2', '2', '0.7', '81', '53', '5', '74', '1']\n",
      "['34', '2', '26', '2', '1', '2', '2', '2', '2', '2', '1', '2', '2', '2', '2', '0.5', '135', '29', '3.8', '60', '1']\n",
      "['35', '2', '35', '1', '2', '2', '1', '2', '2', '2', '2', '2', '2', '2', '2', '0.9', '58', '92', '4.3', '73', '1']\n",
      "['36', '1', '37', '1', '2', '2', '1', '2', '2', '2', '2', '2', '1', '2', '2', '0.6', '67', '28', '4.2', '?', '1']\n",
      "['37', '2', '23', '1', '2', '2', '1', '1', '1', '2', '2', '1', '2', '2', '2', '1.3', '194', '150', '4.1', '90', '1']\n",
      "['38', '2', '20', '2', '1', '2', '1', '1', '1', '1', '1', '1', '1', '2', '2', '2.3', '150', '68', '3.9', '?', '1']\n",
      "['39', '2', '42', '1', '1', '2', '2', '2', '2', '2', '2', '2', '2', '2', '2', '1', '85', '14', '4', '100', '1']\n",
      "['40', '2', '65', '1', '2', '2', '1', '1', '2', '2', '1', '1', '1', '1', '2', '0.3', '180', '53', '2.9', '74', '2']\n",
      "['41', '2', '52', '1', '1', '1', '2', '2', '2', '2', '2', '2', '2', '2', '2', '0.7', '75', '55', '4', '21', '1']\n",
      "['42', '2', '23', '1', '2', '2', '2', '2', '2', '?', '?', '?', '?', '?', '?', '4.6', '56', '16', '4.6', '?', '1']\n",
      "['43', '2', '33', '1', '2', '2', '2', '2', '2', '2', '2', '2', '2', '2', '2', '1', '46', '90', '4.4', '60', '1']\n",
      "['44', '2', '56', '1', '1', '2', '1', '2', '2', '2', '2', '2', '2', '2', '2', '0.7', '71', '18', '4.4', '100', '1']\n",
      "['45', '2', '34', '1', '2', '2', '2', '2', '2', '2', '2', '2', '2', '2', '2', '?', '?', '86', '?', '?', '1']\n",
      "['46', '2', '28', '1', '2', '2', '1', '1', '2', '2', '2', '2', '2', '2', '2', '0.7', '74', '110', '4.4', '?', '1']\n",
      "['47', '2', '37', '1', '1', '2', '2', '2', '2', '2', '1', '2', '1', '2', '2', '0.6', '80', '80', '3.8', '?', '1']\n",
      "['48', '2', '28', '2', '2', '2', '1', '1', '2', '2', '1', '2', '2', '2', '2', '1.8', '191', '420', '3.3', '46', '1']\n",
      "['49', '2', '36', '1', '1', '2', '2', '2', '2', '2', '2', '1', '2', '2', '2', '0.8', '85', '44', '4.2', '85', '1']\n",
      "['50', '2', '38', '1', '2', '1', '1', '1', '1', '2', '2', '2', '1', '2', '2', '0.7', '125', '65', '4.2', '77', '1']\n",
      "['51', '2', '39', '1', '1', '2', '2', '2', '2', '2', '2', '2', '2', '2', '2', '0.9', '85', '60', '4', '?', '1']\n",
      "['52', '2', '39', '1', '2', '2', '2', '2', '2', '2', '2', '2', '2', '2', '2', '1', '85', '20', '4', '?', '1']\n",
      "['53', '2', '44', '1', '2', '2', '2', '2', '2', '2', '2', '2', '2', '2', '2', '0.6', '110', '145', '4.4', '70', '1']\n",
      "['54', '2', '40', '1', '2', '1', '1', '2', '2', '2', '1', '1', '2', '2', '2', '1.2', '85', '31', '4', '100', '1']\n",
      "['55', '2', '30', '1', '2', '2', '1', '2', '2', '2', '2', '2', '2', '2', '2', '0.7', '50', '78', '4.2', '74', '1']\n",
      "['56', '2', '37', '1', '1', '2', '1', '1', '1', '2', '2', '2', '2', '2', '2', '0.8', '92', '59', '?', '?', '1']\n",
      "['57', '2', '34', '1', '1', '2', '?', '?', '?', '?', '?', '?', '?', '?', '?', '?', '?', '?', '?', '?', '1']\n",
      "['58', '2', '30', '1', '2', '1', '2', '2', '2', '2', '2', '2', '2', '2', '2', '0.7', '52', '38', '3.9', '52', '1']\n",
      "['59', '2', '64', '1', '2', '1', '1', '1', '2', '1', '1', '2', '2', '2', '2', '1', '80', '38', '4.3', '74', '1']\n",
      "['60', '2', '45', '2', '1', '2', '1', '1', '2', '2', '2', '1', '2', '2', '2', '1', '85', '75', '?', '?', '1']\n",
      "['61', '2', '37', '1', '2', '2', '2', '2', '2', '2', '2', '2', '2', '2', '2', '0.7', '26', '58', '4.5', '100', '1']\n",
      "['62', '2', '32', '1', '2', '2', '2', '2', '2', '2', '2', '2', '2', '2', '2', '0.7', '102', '64', '4', '90', '1']\n",
      "['63', '2', '32', '1', '2', '2', '1', '1', '1', '2', '2', '2', '1', '2', '1', '3.5', '215', '54', '3.4', '29', '1']\n",
      "['64', '2', '36', '1', '1', '2', '2', '2', '2', '1', '1', '1', '2', '2', '2', '0.7', '164', '44', '3.1', '41', '1']\n",
      "['65', '2', '49', '1', '2', '2', '1', '1', '2', '2', '2', '2', '2', '2', '2', '0.8', '103', '43', '3.5', '66', '1']\n",
      "['66', '2', '27', '1', '2', '2', '2', '2', '2', '2', '2', '2', '2', '2', '2', '0.8', '?', '38', '4.2', '?', '1']\n",
      "['67', '2', '56', '1', '1', '2', '2', '2', '2', '2', '2', '2', '2', '2', '2', '0.7', '62', '33', '3', '?', '1']\n",
      "['68', '1', '57', '1', '2', '2', '1', '1', '1', '2', '2', '2', '1', '1', '2', '4.1', '?', '48', '2.6', '73', '1']\n",
      "['69', '2', '39', '1', '2', '2', '1', '2', '2', '2', '2', '2', '2', '2', '2', '1', '34', '15', '4', '54', '1']\n",
      "['70', '2', '44', '1', '1', '2', '1', '1', '2', '2', '2', '2', '2', '2', '2', '1.6', '68', '68', '3.7', '?', '1']\n",
      "['71', '2', '24', '1', '2', '2', '2', '2', '2', '2', '2', '2', '2', '2', '2', '0.8', '82', '39', '4.3', '?', '1']\n",
      "['72', '1', '34', '1', '1', '2', '1', '1', '2', '1', '1', '2', '1', '2', '2', '2.8', '127', '182', '?', '?', '1']\n",
      "['73', '2', '51', '1', '2', '2', '1', '1', '1', '?', '?', '?', '?', '?', '?', '0.9', '76', '271', '4.4', '?', '1']\n",
      "['74', '2', '36', '1', '1', '2', '1', '1', '1', '2', '1', '2', '2', '2', '2', '1', '?', '45', '4', '57', '1']\n",
      "['75', '2', '50', '1', '2', '2', '2', '2', '2', '2', '2', '2', '2', '2', '2', '1.5', '100', '100', '5.3', '?', '1']\n",
      "['76', '2', '32', '1', '1', '1', '1', '1', '2', '2', '2', '2', '2', '2', '2', '1', '55', '45', '4.1', '56', '1']\n",
      "['77', '1', '58', '1', '2', '2', '1', '2', '2', '1', '1', '1', '1', '2', '2', '2', '167', '242', '3.3', '?', '1']\n",
      "['78', '2', '34', '2', '1', '1', '2', '2', '2', '2', '1', '2', '2', '2', '2', '0.6', '30', '24', '4', '76', '1']\n",
      "['79', '2', '34', '1', '1', '2', '1', '2', '2', '1', '1', '2', '1', '2', '2', '1', '72', '46', '4.4', '57', '1']\n",
      "['80', '2', '28', '1', '2', '2', '2', '2', '2', '2', '2', '2', '2', '2', '2', '0.7', '85', '31', '4.9', '?', '1']\n",
      "['81', '2', '23', '1', '2', '2', '1', '1', '1', '2', '2', '2', '2', '2', '2', '0.8', '?', '14', '4.8', '?', '1']\n",
      "['82', '2', '36', '1', '2', '2', '2', '2', '2', '2', '2', '2', '2', '2', '2', '0.7', '62', '224', '4.2', '100', '1']\n",
      "['83', '2', '30', '1', '1', '2', '2', '2', '2', '2', '2', '2', '2', '2', '2', '0.7', '100', '31', '4', '100', '1']\n",
      "['84', '2', '67', '2', '1', '2', '1', '1', '2', '2', '2', '?', '?', '?', '?', '1.5', '179', '69', '2.9', '?', '1']\n",
      "['85', '2', '62', '2', '2', '2', '1', '1', '2', '2', '1', '2', '1', '2', '2', '1.3', '141', '156', '3.9', '58', '1']\n",
      "['86', '2', '28', '1', '1', '2', '1', '1', '1', '2', '1', '2', '2', '2', '2', '1.6', '44', '123', '4', '46', '1']\n",
      "['87', '1', '44', '1', '1', '2', '1', '1', '2', '2', '2', '1', '2', '2', '1', '0.9', '135', '55', '?', '41', '2']\n",
      "['88', '1', '30', '1', '2', '2', '1', '1', '1', '2', '1', '2', '1', '1', '1', '2.5', '165', '64', '2.8', '?', '2']\n",
      "['89', '1', '38', '1', '1', '2', '1', '1', '1', '2', '1', '2', '1', '1', '1', '1.2', '118', '16', '2.8', '?', '2']\n",
      "['90', '2', '38', '1', '1', '2', '1', '1', '1', '1', '1', '2', '2', '2', '2', '0.6', '76', '18', '4.4', '84', '2']\n",
      "['91', '2', '50', '2', '1', '2', '1', '2', '2', '1', '1', '1', '1', '2', '2', '0.9', '230', '117', '3.4', '41', '2']\n",
      "['92', '1', '42', '1', '1', '2', '1', '1', '1', '2', '2', '1', '1', '2', '1', '4.6', '?', '55', '3.3', '?', '2']\n",
      "['93', '2', '33', '1', '2', '2', '2', '2', '2', '?', '?', '2', '2', '2', '2', '1', '?', '60', '4', '?', '2']\n",
      "['94', '2', '52', '1', '1', '2', '2', '2', '2', '2', '2', '2', '2', '2', '2', '1.5', '?', '69', '2.9', '?', '2']\n",
      "['95', '1', '59', '1', '1', '2', '1', '1', '2', '2', '1', '1', '1', '2', '2', '1.5', '107', '157', '3.6', '38', '2']\n",
      "['96', '2', '40', '1', '1', '1', '1', '1', '1', '1', '1', '2', '2', '2', '2', '0.6', '40', '69', '4.2', '67', '2']\n",
      "['97', '2', '30', '1', '1', '2', '1', '1', '2', '2', '1', '2', '1', '2', '2', '0.8', '147', '128', '3.9', '100', '2']\n",
      "['98', '2', '44', '1', '1', '2', '1', '1', '2', '1', '1', '2', '1', '2', '2', '3', '114', '65', '3.5', '?', '2']\n",
      "['99', '1', '47', '1', '2', '2', '2', '2', '2', '2', '2', '2', '1', '2', '1', '2', '84', '23', '4.2', '66', '2']\n",
      "['100', '2', '60', '1', '1', '2', '1', '2', '2', '1', '1', '1', '1', '2', '2', '?', '?', '40', '?', '?', '2']\n",
      "['101', '1', '48', '1', '1', '2', '1', '1', '2', '2', '1', '2', '1', '1', '1', '4.8', '123', '157', '2.7', '31', '2']\n",
      "['102', '2', '22', '1', '2', '2', '2', '2', '2', '2', '2', '2', '2', '2', '2', '0.7', '?', '24', '?', '?', '2']\n",
      "['103', '2', '27', '1', '1', '2', '1', '2', '2', '2', '1', '2', '2', '2', '2', '2.4', '168', '227', '3', '66', '2']\n",
      "['104', '2', '51', '1', '1', '2', '1', '1', '1', '2', '1', '1', '1', '2', '1', '4.6', '215', '269', '3.9', '51', '2']\n",
      "['105', '1', '47', '1', '2', '2', '1', '1', '2', '2', '1', '2', '2', '1', '1', '1.7', '86', '20', '2.1', '46', '2']\n",
      "['106', '2', '25', '1', '2', '2', '2', '2', '2', '2', '2', '2', '2', '2', '2', '0.6', '?', '34', '6.4', '?', '2']\n",
      "['107', '1', '35', '1', '1', '2', '1', '2', '2', '?', '?', '1', '1', '1', '2', '1.5', '138', '58', '2.6', '?', '2']\n",
      "['108', '2', '45', '1', '1', '2', '1', '1', '1', '2', '2', '2', '2', '2', '2', '2.3', '?', '648', '?', '?', '2']\n",
      "['109', '2', '54', '1', '1', '1', '2', '2', '2', '1', '1', '2', '2', '2', '2', '1', '155', '225', '3.6', '67', '2']\n",
      "['110', '1', '33', '1', '1', '2', '1', '1', '2', '2', '2', '2', '2', '1', '2', '0.7', '63', '80', '3', '31', '2']\n",
      "['111', '2', '7', '1', '2', '2', '2', '2', '2', '2', '1', '1', '2', '2', '2', '0.7', '256', '25', '4.2', '?', '2']\n",
      "['112', '1', '42', '1', '1', '1', '1', '1', '2', '2', '2', '2', '1', '2', '2', '0.5', '62', '68', '3.8', '29', '2']\n",
      "['113', '2', '52', '1', '1', '2', '1', '2', '2', '2', '2', '2', '2', '2', '2', '1', '85', '30', '4', '?', '2']\n",
      "['114', '2', '45', '1', '1', '2', '1', '2', '2', '2', '1', '1', '2', '2', '2', '1.2', '81', '65', '3', '?', '1']\n",
      "['115', '2', '36', '1', '1', '2', '2', '2', '2', '2', '2', '2', '2', '2', '2', '1.1', '141', '75', '3.3', '?', '2']\n",
      "['116', '2', '69', '2', '2', '2', '1', '2', '2', '2', '2', '2', '2', '2', '2', '3.2', '119', '136', '?', '?', '2']\n",
      "['117', '2', '24', '1', '1', '2', '1', '2', '2', '2', '2', '2', '2', '2', '2', '1', '?', '34', '4.1', '?', '2']\n",
      "['118', '2', '50', '1', '2', '2', '2', '2', '2', '2', '2', '2', '2', '2', '2', '1', '139', '81', '3.9', '62', '2']\n",
      "['119', '1', '61', '1', '1', '2', '1', '1', '2', '?', '?', '2', '1', '2', '2', '?', '?', '?', '?', '?', '2']\n",
      "['120', '2', '54', '1', '2', '2', '1', '2', '2', '1', '1', '2', '2', '2', '2', '3.2', '85', '28', '3.8', '?', '2']\n",
      "['121', '1', '56', '1', '1', '2', '1', '1', '1', '1', '1', '2', '1', '2', '2', '2.9', '90', '153', '4', '?', '2']\n",
      "['122', '2', '20', '1', '1', '2', '1', '1', '1', '2', '2', '2', '1', '1', '2', '1', '160', '118', '2.9', '23', '2']\n",
      "['123', '2', '42', '1', '2', '2', '2', '2', '2', '2', '2', '1', '2', '2', '2', '1.5', '85', '40', '?', '?', '2']\n",
      "['124', '2', '37', '1', '1', '2', '1', '2', '2', '2', '2', '2', '1', '2', '2', '0.9', '?', '231', '4.3', '?', '2']\n",
      "['125', '2', '50', '1', '2', '2', '2', '2', '2', '2', '1', '1', '1', '2', '2', '1', '85', '75', '4', '72', '2']\n",
      "['126', '2', '34', '2', '2', '2', '1', '1', '1', '1', '1', '2', '1', '2', '2', '0.7', '70', '24', '4.1', '100', '2']\n",
      "['127', '2', '28', '1', '2', '2', '1', '1', '1', '?', '?', '2', '1', '1', '2', '1', '?', '20', '4', '?', '2']\n",
      "['128', '1', '50', '1', '2', '2', '1', '2', '2', '2', '1', '1', '2', '1', '1', '2.8', '155', '75', '2.4', '32', '2']\n",
      "['129', '2', '54', '1', '1', '2', '1', '1', '2', '2', '2', '2', '2', '1', '2', '1.2', '85', '92', '3.1', '66', '2']\n",
      "['130', '1', '57', '1', '1', '2', '1', '1', '2', '2', '2', '2', '1', '1', '2', '4.6', '82', '55', '3.3', '30', '2']\n",
      "['131', '2', '54', '1', '2', '2', '2', '2', '2', '2', '2', '2', '2', '2', '2', '1', '85', '30', '4.5', '0', '2']\n",
      "['132', '1', '31', '1', '1', '2', '1', '1', '1', '2', '2', '1', '2', '2', '2', '8', '?', '101', '2.2', '?', '2']\n",
      "['133', '2', '48', '1', '2', '2', '1', '1', '1', '2', '1', '2', '1', '2', '2', '2', '158', '278', '3.8', '?', '2']\n",
      "['134', '2', '72', '1', '2', '1', '1', '2', '2', '2', '1', '2', '2', '2', '2', '1', '115', '52', '3.4', '50', '2']\n",
      "['135', '1', '38', '1', '1', '2', '2', '2', '2', '2', '1', '2', '2', '2', '2', '0.4', '243', '49', '3.8', '90', '2']\n",
      "['136', '2', '25', '1', '2', '2', '1', '2', '2', '1', '1', '1', '1', '1', '1', '1.3', '181', '181', '4.5', '57', '2']\n",
      "['137', '2', '51', '1', '2', '2', '2', '2', '2', '1', '1', '2', '1', '2', '2', '0.8', '?', '33', '4.5', '?', '2']\n",
      "['138', '2', '38', '1', '2', '2', '2', '2', '2', '2', '1', '2', '1', '2', '1', '1.6', '130', '140', '3.5', '56', '2']\n",
      "['139', '1', '47', '1', '2', '2', '1', '1', '2', '2', '1', '2', '1', '1', '1', '1', '166', '30', '2.6', '31', '2']\n",
      "['140', '2', '45', '1', '2', '1', '2', '2', '2', '2', '2', '2', '2', '2', '2', '1.3', '85', '44', '4.2', '85', '2']\n",
      "['141', '2', '36', '1', '1', '2', '1', '1', '1', '1', '1', '2', '1', '2', '1', '1.7', '295', '60', '2.7', '?', '2']\n",
      "['142', '1', '54', '1', '1', '2', '1', '1', '2', '?', '?', '1', '2', '1', '2', '3.9', '120', '28', '3.5', '43', '2']\n",
      "['143', '2', '51', '1', '2', '2', '1', '2', '2', '2', '1', '1', '1', '2', '1', '1', '?', '20', '3', '63', '2']\n",
      "['144', '1', '49', '1', '1', '2', '1', '1', '2', '2', '2', '1', '1', '2', '2', '1.4', '85', '70', '3.5', '35', '2']\n",
      "['145', '1', '45', '1', '2', '2', '1', '1', '1', '2', '2', '2', '1', '1', '2', '1.9', '?', '114', '2.4', '?', '2']\n",
      "['146', '2', '31', '1', '1', '2', '1', '2', '2', '2', '2', '2', '2', '2', '2', '1.2', '75', '173', '4.2', '54', '2']\n",
      "['147', '1', '41', '1', '2', '2', '1', '2', '2', '2', '1', '1', '1', '2', '1', '4.2', '65', '120', '3.4', '?', '2']\n",
      "['148', '1', '70', '1', '1', '2', '1', '1', '1', '?', '?', '?', '?', '?', '?', '1.7', '109', '528', '2.8', '35', '2']\n",
      "['149', '2', '20', '1', '1', '2', '2', '2', '2', '2', '?', '2', '2', '2', '2', '0.9', '89', '152', '4', '?', '2']\n",
      "['150', '2', '36', '1', '2', '2', '2', '2', '2', '2', '2', '2', '2', '2', '2', '0.6', '120', '30', '4', '?', '2']\n",
      "['151', '1', '46', '1', '2', '2', '1', '1', '1', '2', '2', '2', '1', '1', '1', '7.6', '?', '242', '3.3', '50', '2']\n",
      "['152', '2', '44', '1', '2', '2', '1', '2', '2', '2', '1', '2', '2', '2', '2', '0.9', '126', '142', '4.3', '?', '2']\n",
      "['153', '2', '61', '1', '1', '2', '1', '1', '2', '1', '1', '2', '1', '2', '2', '0.8', '75', '20', '4.1', '?', '2']\n",
      "['154', '2', '53', '2', '1', '2', '1', '2', '2', '2', '2', '1', '1', '2', '1', '1.5', '81', '19', '4.1', '48', '2']\n",
      "['155', '1', '43', '1', '2', '2', '1', '2', '2', '2', '2', '1', '1', '1', '2', '1.2', '100', '19', '3.1', '42', '2']\n"
     ]
    }
   ],
   "source": [
    "with open('hepatitis.csv') as csvfile:\n",
    "    rows = csv.reader(csvfile, delimiter = ',')\n",
    "    column_names = next(rows)\n",
    "    print(column_names)\n",
    "    for row in rows:\n",
    "        print(row)"
   ]
  },
  {
   "cell_type": "code",
   "execution_count": null,
   "id": "258ff609",
   "metadata": {},
   "outputs": [],
   "source": []
  },
  {
   "cell_type": "code",
   "execution_count": null,
   "id": "3b34041f",
   "metadata": {},
   "outputs": [],
   "source": []
  },
  {
   "cell_type": "markdown",
   "id": "e481565a",
   "metadata": {},
   "source": [
    "## using GLOB to do some magic READ and UPDATE"
   ]
  },
  {
   "cell_type": "code",
   "execution_count": null,
   "id": "ca1ea68d",
   "metadata": {},
   "outputs": [],
   "source": [
    "for filename in glob.glob('data/*.csv'):\n",
    "    data = pandas.read_csv(filename)\n",
    "    print(filename, data['salary'].min())"
   ]
  },
  {
   "cell_type": "code",
   "execution_count": null,
   "id": "232477d0",
   "metadata": {},
   "outputs": [],
   "source": []
  },
  {
   "cell_type": "code",
   "execution_count": null,
   "id": "0b9c61f6",
   "metadata": {},
   "outputs": [],
   "source": []
  },
  {
   "cell_type": "markdown",
   "id": "8973c5a0",
   "metadata": {},
   "source": [
    "## Saving Files"
   ]
  },
  {
   "cell_type": "code",
   "execution_count": null,
   "id": "c833abc0",
   "metadata": {},
   "outputs": [],
   "source": []
  },
  {
   "cell_type": "code",
   "execution_count": null,
   "id": "f9c48e6a",
   "metadata": {},
   "outputs": [],
   "source": [
    "df.to_csv()"
   ]
  },
  {
   "cell_type": "code",
   "execution_count": null,
   "id": "da364b0c",
   "metadata": {},
   "outputs": [],
   "source": []
  },
  {
   "cell_type": "code",
   "execution_count": null,
   "id": "63da0217",
   "metadata": {},
   "outputs": [],
   "source": []
  },
  {
   "cell_type": "code",
   "execution_count": null,
   "id": "7f620fc1",
   "metadata": {},
   "outputs": [],
   "source": [
    "df.to_pickle()"
   ]
  },
  {
   "cell_type": "code",
   "execution_count": null,
   "id": "60cbcc07",
   "metadata": {},
   "outputs": [],
   "source": [
    "pd.read_pickle(df)"
   ]
  },
  {
   "cell_type": "code",
   "execution_count": null,
   "id": "fd6940dc",
   "metadata": {},
   "outputs": [],
   "source": []
  },
  {
   "cell_type": "code",
   "execution_count": null,
   "id": "1589b4a2",
   "metadata": {},
   "outputs": [],
   "source": []
  },
  {
   "cell_type": "code",
   "execution_count": null,
   "id": "ce3ed980",
   "metadata": {},
   "outputs": [],
   "source": []
  }
 ],
 "metadata": {
  "kernelspec": {
   "display_name": "Python 3 (ipykernel)",
   "language": "python",
   "name": "python3"
  },
  "language_info": {
   "codemirror_mode": {
    "name": "ipython",
    "version": 3
   },
   "file_extension": ".py",
   "mimetype": "text/x-python",
   "name": "python",
   "nbconvert_exporter": "python",
   "pygments_lexer": "ipython3",
   "version": "3.9.12"
  }
 },
 "nbformat": 4,
 "nbformat_minor": 5
}
