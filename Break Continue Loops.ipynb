{
 "cells": [
  {
   "cell_type": "code",
   "execution_count": 1,
   "id": "91cfa9fe",
   "metadata": {},
   "outputs": [
    {
     "name": "stdout",
     "output_type": "stream",
     "text": [
      "3 4 2 9 10 19\n",
      "3\n",
      "4\n",
      "2\n",
      "9\n",
      "19\n"
     ]
    }
   ],
   "source": [
    "def get_numbers():\n",
    "    user_input = input()\n",
    "    values = []\n",
    "    for token in user_input.split():\n",
    "        values.append(int(token))\n",
    "    return values\n",
    "\n",
    "def print_selected_numbers():\n",
    "    numbers = get_numbers()\n",
    "    for number in numbers:\n",
    "        if (number % 5) != 0:\n",
    "            print(number)\n",
    "\n",
    "print_selected_numbers()"
   ]
  },
  {
   "cell_type": "code",
   "execution_count": null,
   "id": "5e8c710d",
   "metadata": {},
   "outputs": [],
   "source": []
  },
  {
   "cell_type": "code",
   "execution_count": null,
   "id": "250d04af",
   "metadata": {},
   "outputs": [],
   "source": [
    "\"\"\"\n",
    "Write a program that takes in an integer in the range 11-100 as input.\n",
    "The output is a countdown starting from the integer, and stopping when both output digits are identical.\n",
    "\"\"\"\n",
    "\n",
    "num = int(input())\n",
    "\n",
    "while (num >= 11) and (num <= 100):\n",
    "        print(num) \n",
    "        if str(num)[0] == str(num)[1]:\n",
    "            break\n",
    "        num -= 1\n",
    " \n",
    "else:\n",
    "    print('Input must be 11-100')\n",
    "\n"
   ]
  },
  {
   "cell_type": "code",
   "execution_count": null,
   "id": "15d244f5",
   "metadata": {},
   "outputs": [],
   "source": []
  },
  {
   "cell_type": "code",
   "execution_count": null,
   "id": "0d11c8a3",
   "metadata": {},
   "outputs": [],
   "source": []
  },
  {
   "cell_type": "code",
   "execution_count": 1,
   "id": "dc07515b",
   "metadata": {},
   "outputs": [
    {
     "name": "stdout",
     "output_type": "stream",
     "text": [
      "- -2 - 0 - 2 - 4 done\n"
     ]
    }
   ],
   "source": [
    "result = 0\n",
    "for n in range(8):\n",
    "    result = n - 3\n",
    "    if (result % 2) != 0:\n",
    "        print('-', end=' ')\n",
    "        continue\n",
    "    print(result, end=' ')\n",
    "print('done')"
   ]
  },
  {
   "cell_type": "code",
   "execution_count": 2,
   "id": "8012bda6",
   "metadata": {},
   "outputs": [
    {
     "name": "stdout",
     "output_type": "stream",
     "text": [
      "4\n",
      "26\n",
      "27\n",
      "8\n",
      "16\n",
      "24\n",
      "32\n"
     ]
    }
   ],
   "source": [
    "a = int(input())\n",
    "b = int(input())\n",
    "c = int(input())\n",
    "result = 0\n",
    "while a < b:\n",
    "    result = a * 2\n",
    "    print(result)\n",
    "    if result > c:\n",
    "        break\n",
    "    a += 4"
   ]
  },
  {
   "cell_type": "code",
   "execution_count": 3,
   "id": "2501f00c",
   "metadata": {},
   "outputs": [
    {
     "name": "stdout",
     "output_type": "stream",
     "text": [
      "12\n",
      "3\n",
      "9\n",
      "18\n"
     ]
    }
   ],
   "source": [
    "stop = int(input())\n",
    "result = 0\n",
    "for a in range(4):\n",
    "    for b in range(3):\n",
    "        result += a + b\n",
    "    print(result)\n",
    "    if result > stop:\n",
    "        break"
   ]
  },
  {
   "cell_type": "code",
   "execution_count": 4,
   "id": "1e165648",
   "metadata": {},
   "outputs": [
    {
     "name": "stdout",
     "output_type": "stream",
     "text": [
      "7\n",
      "0: 0 1 \n",
      "1: 2 4 \n",
      "2: 6 - \n",
      "3: - - \n"
     ]
    }
   ],
   "source": [
    "stop = int(input())\n",
    "result = 0\n",
    "for a in range(4):\n",
    "    print(a, end=': ')\n",
    "    for b in range(2):\n",
    "        result += a + b\n",
    "        if result > stop:\n",
    "            print('-', end=' ')\n",
    "            continue\n",
    "        print(result, end=' ')\n",
    "    print()"
   ]
  },
  {
   "cell_type": "code",
   "execution_count": null,
   "id": "088d5ec9",
   "metadata": {},
   "outputs": [],
   "source": [
    "\"\"\"\n",
    "\"Simon Says\" is a memory game where \"Simon\" outputs a sequence of 10 characters (R, G, B, Y) and the user must repeat the sequence. Create a for loop that compares each character of the two strings. For each matching character, add one point to user_score. Upon a mismatch, end the loop.\n",
    "\n",
    "Sample output with inputs: 'RRGBRYYBGY' 'RRGBBRYBGY'\n",
    "User score: 4\n",
    "\n",
    "\"\"\"\n"
   ]
  },
  {
   "cell_type": "code",
   "execution_count": null,
   "id": "283bcbf2",
   "metadata": {},
   "outputs": [],
   "source": [
    "user_score = 0\n",
    "simon_pattern = input()\n",
    "user_pattern  = input()\n",
    "\n",
    "for i in simon_pattern:\n",
    "   if user_pattern[user_score] == simon_pattern[user_score]:\n",
    "      user_score += 1\n",
    "   else:\n",
    "      break\n",
    "            \n",
    "\n",
    "print('User score:', user_score)"
   ]
  }
 ],
 "metadata": {
  "kernelspec": {
   "display_name": "Python 3 (ipykernel)",
   "language": "python",
   "name": "python3"
  },
  "language_info": {
   "codemirror_mode": {
    "name": "ipython",
    "version": 3
   },
   "file_extension": ".py",
   "mimetype": "text/x-python",
   "name": "python",
   "nbconvert_exporter": "python",
   "pygments_lexer": "ipython3",
   "version": "3.9.12"
  }
 },
 "nbformat": 4,
 "nbformat_minor": 5
}
