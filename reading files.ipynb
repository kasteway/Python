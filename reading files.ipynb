{
 "cells": [
  {
   "cell_type": "markdown",
   "id": "5cafb428",
   "metadata": {},
   "source": [
    "'''\n",
    "The open() built-in function requires a single argument that specifies the path to the file. Ex: open('myfile.txt') opens myfile.txt located in the same directory as the executing script. Full path names can also be specified, as in open('C:\\\\Users\\\\BWayne\\\\tax_return.txt'). The file.close() method closes the file, after which no more reads or writes to the file are allowed.\n",
    "\n",
    "The most common methods to read text from a file are file.read() and file.readlines(). The file.read() method returns the file contents as a string. The file.readlines() method returns a list of strings, where the first element is the contents of the first line, the second element is the contents of the second line, and so on. Both methods can be given an optional argument that specifies the number of bytes to read from the file. Each method stops reading when the end-of-file (EOF) is detected, which indicates no more data is available.\n",
    "\n",
    "A third method, file.readline(), returns a single line at a time, which is useful when dealing with large files where the entire file contents may not fit into the available system memory.\n",
    "\n",
    "'''"
   ]
  },
  {
   "cell_type": "code",
   "execution_count": 3,
   "id": "fe511de3",
   "metadata": {},
   "outputs": [
    {
     "name": "stdout",
     "output_type": "stream",
     "text": [
      "Opening file myfile.txt.\n"
     ]
    }
   ],
   "source": [
    "print('Opening file myfile.txt.')\n",
    "f = open('myfile.txt')  # create file object"
   ]
  },
  {
   "cell_type": "code",
   "execution_count": 4,
   "id": "5f688c20",
   "metadata": {},
   "outputs": [
    {
     "name": "stdout",
     "output_type": "stream",
     "text": [
      "Reading file myfile.txt.\n"
     ]
    }
   ],
   "source": [
    "print('Reading file myfile.txt.')\n",
    "contents = f.read()  # read file text into a string"
   ]
  },
  {
   "cell_type": "code",
   "execution_count": 5,
   "id": "48d020e9",
   "metadata": {},
   "outputs": [
    {
     "name": "stdout",
     "output_type": "stream",
     "text": [
      "Closing file myfile.txt.\n"
     ]
    }
   ],
   "source": [
    "print('Closing file myfile.txt.')\n",
    "f.close()  # close the file\n"
   ]
  },
  {
   "cell_type": "code",
   "execution_count": 6,
   "id": "87a4ad2a",
   "metadata": {},
   "outputs": [
    {
     "name": "stdout",
     "output_type": "stream",
     "text": [
      "\n",
      "Contents of myfile.txt:\n",
      "7,Gee,Etch,25,ge@xyz.com\n",
      "8,Jay,Kay,35,jk@xyz.com\n",
      "\n"
     ]
    }
   ],
   "source": [
    "print('\\nContents of myfile.txt:')\n",
    "print(contents)"
   ]
  },
  {
   "cell_type": "code",
   "execution_count": null,
   "id": "d161f8f1",
   "metadata": {},
   "outputs": [],
   "source": []
  },
  {
   "cell_type": "markdown",
   "id": "3c135aa3",
   "metadata": {},
   "source": [
    "'''\n",
    "One of the most common programming tasks is to read data from a file and then process that data to produce a useful result. Sometimes the data is a string, like in the example above, but often the data is a numeric value. Each unique data value is often placed on its own line. Thus, a program commonly 1) reads in the contents of a file, 2) iterates over each line to process data values, and 3) computes some value, such as the average value.\n",
    "'''"
   ]
  },
  {
   "cell_type": "code",
   "execution_count": null,
   "id": "ad80ced0",
   "metadata": {},
   "outputs": [],
   "source": [
    "# Read file contents\n",
    "print ('Reading in data....')\n",
    "f = open('mydata.txt')\n",
    "lines = f.readlines()\n",
    "f.close()\n",
    "\n",
    "# Iterate over each line\n",
    "print('\\nCalculating average....')\n",
    "total = 0\n",
    "for ln in lines:\n",
    "    total += int(ln)\n",
    "\n",
    "# Compute result\n",
    "avg = total/len(lines)\n",
    "print('Average value:', avg)"
   ]
  },
  {
   "cell_type": "code",
   "execution_count": null,
   "id": "e5265546",
   "metadata": {},
   "outputs": [],
   "source": []
  },
  {
   "cell_type": "markdown",
   "id": "8d367bd7",
   "metadata": {},
   "source": [
    "'''\n",
    "Iterating over each line of a file is so common that file objects support iteration using the for .... in syntax. The below example echoes the contents of a file:\n",
    "\n",
    "\n",
    "'''"
   ]
  },
  {
   "cell_type": "code",
   "execution_count": 7,
   "id": "26d0bec9",
   "metadata": {},
   "outputs": [
    {
     "name": "stdout",
     "output_type": "stream",
     "text": [
      "7,Gee,Etch,25,ge@xyz.com\n",
      "8,Jay,Kay,35,jk@xyz.com\n"
     ]
    }
   ],
   "source": [
    "\"\"\"Echo the contents of a file.\"\"\"\n",
    "f = open('myfile.txt')\n",
    "\n",
    "for line in f:\n",
    "    print(line, end=\"\")\n",
    "\n",
    "f.close()"
   ]
  },
  {
   "cell_type": "code",
   "execution_count": null,
   "id": "1b87370f",
   "metadata": {},
   "outputs": [],
   "source": []
  },
  {
   "cell_type": "markdown",
   "id": "55dd8d9c",
   "metadata": {},
   "source": [
    "'''\n",
    "Programs often write to a file to store data permanently. The file.write() method writes a string argument to a file.\n",
    "\n",
    "'''"
   ]
  },
  {
   "cell_type": "code",
   "execution_count": null,
   "id": "988783ca",
   "metadata": {},
   "outputs": [],
   "source": [
    "f = open('myfile.txt', 'w')  # Open file\n",
    "f.write('Example string:\\n  test....')  # Write string\n",
    "f.close()  # Close the file"
   ]
  },
  {
   "cell_type": "code",
   "execution_count": null,
   "id": "eb85af98",
   "metadata": {},
   "outputs": [],
   "source": []
  },
  {
   "cell_type": "markdown",
   "id": "0d17449e",
   "metadata": {},
   "source": [
    "The write() method accepts a string argument only. Integers and floating-point values must first be converted using str(), as in f.write(str(5.75))."
   ]
  },
  {
   "cell_type": "code",
   "execution_count": null,
   "id": "86e84bb8",
   "metadata": {},
   "outputs": [],
   "source": [
    "num1 = 5\n",
    "num2 = 7.5\n",
    "num3 = num1 + num2\n",
    "\n",
    "f = open('myfile.txt', 'w')\n",
    "f.write(str(num1))\n",
    "f.write(' + ')\n",
    "f.write(str(num2))\n",
    "f.write(' = ')\n",
    "f.write(str(num3))\n",
    "f.close()"
   ]
  },
  {
   "cell_type": "code",
   "execution_count": null,
   "id": "e4b8e61c",
   "metadata": {},
   "outputs": [],
   "source": []
  },
  {
   "cell_type": "code",
   "execution_count": null,
   "id": "9e1ebb4b",
   "metadata": {},
   "outputs": [],
   "source": []
  },
  {
   "cell_type": "code",
   "execution_count": null,
   "id": "a3761d87",
   "metadata": {},
   "outputs": [],
   "source": []
  },
  {
   "cell_type": "code",
   "execution_count": null,
   "id": "2ddd45a1",
   "metadata": {},
   "outputs": [],
   "source": []
  }
 ],
 "metadata": {
  "kernelspec": {
   "display_name": "Python 3 (ipykernel)",
   "language": "python",
   "name": "python3"
  },
  "language_info": {
   "codemirror_mode": {
    "name": "ipython",
    "version": 3
   },
   "file_extension": ".py",
   "mimetype": "text/x-python",
   "name": "python",
   "nbconvert_exporter": "python",
   "pygments_lexer": "ipython3",
   "version": "3.9.12"
  }
 },
 "nbformat": 4,
 "nbformat_minor": 5
}
